{
 "cells": [
  {
   "cell_type": "markdown",
   "metadata": {},
   "source": [
    "# Assignment 6: FODO & Twiss Parameter\n",
    "<html>\n",
    "<div class=\"alert alert-info\" role=\"alert\" style=\"margin-top: 10px\">\n",
    "In this exercise we study the FODO cell in more detail.\n",
    "<ul>\n",
    "    <li>Implement the FODO cell map</li>\n",
    "    <li>Single Particle tracking</li>\n",
    "    <li>Twiss parameter tracking</li>\n",
    "</ul>\n",
    "</div>\n",
    "</html>"
   ]
  },
  {
   "cell_type": "markdown",
   "metadata": {},
   "source": [
    "<html>\n",
    "    <div class=\"alert alert-info\" style=\"background-color:rgba(255, 0, 0, 0.6);\n",
    "                                         margin-top:10px;\n",
    "                                         color:white;\n",
    "                                         border-color:rgba(255, 0, 0, 0.3)\">\n",
    "        <strong>If you use google colab, run this cell:</strong>\n",
    "    </div>\n",
    "</html>"
   ]
  },
  {
   "cell_type": "code",
   "execution_count": null,
   "metadata": {},
   "outputs": [],
   "source": [
    "# for google colab, run this cell\n",
    "!git clone https://github.com/potato18z/pam1-hs2021.git\n",
    "import sys\n",
    "sys.path.append('./pam1-hs2021')"
   ]
  },
  {
   "cell_type": "markdown",
   "metadata": {},
   "source": [
    "<html>\n",
    "    <div class=\"alert alert-info\" style=\"background-color:rgba(255, 0, 0, 0.6);\n",
    "                                         margin-top:10px;\n",
    "                                         color:white;\n",
    "                                         border-color:rgba(255, 0, 0, 0.3)\">\n",
    "<strong>If you run it locally, run</strong>\n",
    "               </div>\n",
    "</html>\n",
    "\n",
    "```bash\n",
    "$ cd .../pam1-hs2021\n",
    "...pam1-hs2021$ git pull\n",
    "```\n",
    "<html>\n",
    "    <div class=\"alert alert-info\" style=\"background-color:rgba(255, 0, 0, 0.6);\n",
    "                                         margin-top:10px;\n",
    "                                         color:white;\n",
    "                                         border-color:rgba(255, 0, 0, 0.3)\">\n",
    "to get the updated repository.</div></html>"
   ]
  },
  {
   "cell_type": "markdown",
   "metadata": {},
   "source": [
    "As always, we need to set up the general simulation specifications first.\n",
    "<html>\n",
    "    <div class=\"alert alert-info\" style=\"background-color:rgba(255, 0, 0, 0.6);\n",
    "                                         margin-top:10px;\n",
    "                                         color:white;\n",
    "                                         border-color:rgba(255, 0, 0, 0.3)\">\n",
    "        <strong>TODO:</strong>\n",
    "        <ol>\n",
    "            <li>create a proton particle</li>\n",
    "            <li>set the kinetic energy to 100 MeV</li>\n",
    "            <li>set all global variables</li>\n",
    "        </ol>\n",
    "    </div>\n",
    "</html>"
   ]
  },
  {
   "cell_type": "code",
   "execution_count": null,
   "metadata": {},
   "outputs": [],
   "source": [
    "from AcceLEGOrator import Proton, Physics, Constants\n",
    "import AcceLEGOrator.Parameter as param\n",
    "\n",
    "particle = #...\n",
    "\n",
    "ekin    = 100 #MeV\n",
    "param.mass    = ... # MeV / c^2\n",
    "param.charge  = ... # e\n",
    "param.gamma_0 = Physics.getGamma(...)\n",
    "print ( 'Gamma = ', param.gamma_0)"
   ]
  },
  {
   "cell_type": "markdown",
   "metadata": {},
   "source": [
    "## Thin Quadrupole and FODO Map\n",
    "As part of solution of the previous exercise, the implementation of thin length quadrupole map is given. You can use it directly by importing."
   ]
  },
  {
   "cell_type": "code",
   "execution_count": null,
   "metadata": {},
   "outputs": [],
   "source": [
    "from AcceLEGOrator import Map, ThinQuadrupole, Drift"
   ]
  },
  {
   "cell_type": "markdown",
   "metadata": {},
   "source": [
    "<html>\n",
    "    <div class=\"alert alert-info\" style=\"background-color:rgba(255, 0, 0, 0.6);\n",
    "                                         margin-top:10px;\n",
    "                                         color:white;\n",
    "                                         border-color:rgba(255, 0, 0, 0.3)\">\n",
    "        <strong>TODO:</strong>\n",
    "        <ul>\n",
    "            <li>Implement the FODO map according to lecture 6-1, equation 6.</li>\n",
    "        </ul>\n",
    "    </div>\n",
    "</html>"
   ]
  },
  {
   "cell_type": "code",
   "execution_count": null,
   "metadata": {},
   "outputs": [],
   "source": [
    "from AcceLEGOrator import Drift\n",
    "\n",
    "class FODO(Map):\n",
    "    \n",
    "    def __init__(self, length, f):\n",
    "        # TODO\n",
    "        self.f = f\n",
    "        R = #...\n",
    "        super(FODO, self).__init__(#...)\n",
    "        \n",
    "    def __str__(self):\n",
    "        return 'FODO(L = ' + str(self.length) \\\n",
    "               + ' [m], f = ' + str(self.f) + ' )\\n'\n",
    "    \n",
    "    def get(self, length):\n",
    "        return FODO(length, self.f)"
   ]
  },
  {
   "cell_type": "markdown",
   "metadata": {},
   "source": [
    "## Single Particle tracking"
   ]
  },
  {
   "cell_type": "markdown",
   "metadata": {},
   "source": [
    "After defining the FODO map, we track a single particle\n",
    "$$\n",
    "\\begin{pmatrix}\n",
    "x \\\\ p_x \\\\ y \\\\ p_y \\\\ z \\\\ \\delta\n",
    "\\end{pmatrix}\n",
    "=\n",
    "\\begin{pmatrix}\n",
    "1\\ mm \\\\ 0\\ mrad \\\\ 1\\ mm \\\\ 0\\ mrad \\\\ 1\\ mm \\\\ 0\\ {}^\\text{o}\\mkern-1mu/\\mkern-1mu_\\text{oo}\n",
    "\\end{pmatrix}\n",
    "$$\n",
    "through such a cell with length $L=1\\ m$ and focal length $f_0 = \\sqrt{2}\\ m$ for 100 times.\n",
    "<html>\n",
    "    <div class=\"alert alert-info\" style=\"background-color:rgba(255, 0, 0, 0.6);\n",
    "                                         margin-top:10px;\n",
    "                                         color:white;\n",
    "                                         border-color:rgba(255, 0, 0, 0.3)\">\n",
    "        <strong>TODO:</strong>\n",
    "        <ul>\n",
    "            <li>Track a particle with initial state described above</li>\n",
    "            <li>Collect all 100 particle states</li>\n",
    "        </ul>\n",
    "    </div>\n",
    "</html>"
   ]
  },
  {
   "cell_type": "code",
   "execution_count": null,
   "metadata": {
    "scrolled": false
   },
   "outputs": [],
   "source": [
    "import matplotlib.pyplot as plt\n",
    "import numpy as np\n",
    "\n",
    "L = 1 # m\n",
    "f0 = np.sqrt(2.0) # m\n",
    "\n",
    "# map\n",
    "M = FODO(L, f0)\n",
    "\n",
    "# initial states\n",
    "state0 = np.array([[1], [0], [1], [0], [1], [0]])\n",
    "\n",
    "# number of tracking steps\n",
    "n = 100\n",
    "\n",
    "states = []\n",
    "for i in range(0, n):\n",
    "    # TODO: track\n",
    "\n",
    "states = np.reshape(states, (n, 6))"
   ]
  },
  {
   "cell_type": "markdown",
   "metadata": {},
   "source": [
    "<html>\n",
    "    <div class=\"alert alert-info\" style=\"background-color:rgba(255, 0, 0, 0.6);\n",
    "                                         margin-top:10px;\n",
    "                                         color:white;\n",
    "                                         border-color:rgba(255, 0, 0, 0.3)\">\n",
    "        <strong>TODO:</strong>\n",
    "        <ul>\n",
    "            <li>Plot the horizontal phase space $(x, p_x)$</li>\n",
    "        </ul>\n",
    "    </div>\n",
    "</html>\n",
    "\n",
    "In order to plot the phase space you can use the `plot_phase_space` method."
   ]
  },
  {
   "cell_type": "code",
   "execution_count": null,
   "metadata": {},
   "outputs": [],
   "source": [
    "from matplotlib import pyplot as plt\n",
    "## Change the function as you wish if you want to plot more, add color and legends etc.\n",
    "\n",
    "# param ax is the axis to plot on\n",
    "# param xvar phase space variable in x-dir\n",
    "# param yvar phase space variable in y-dir\n",
    "# param xlab label for x-axis\n",
    "# param ylab label for y-axis\n",
    "def plot_phase_space(ax, xvar, yvar, xlab, ylab):\n",
    "    vmin = min(min(xvar), min(yvar))\n",
    "    vmin += 0.1 * vmin\n",
    "    vmax = max(max(xvar), max(yvar))\n",
    "    vmax += 0.1 * vmax\n",
    "    \n",
    "    ax.set_xlim(vmin, vmax)\n",
    "    ax.set_ylim(vmin, vmax)\n",
    "    ax.set_xlabel(xlab)\n",
    "    ax.set_ylabel(ylab)\n",
    "    ax.scatter(xvar, yvar, s=1)"
   ]
  },
  {
   "cell_type": "code",
   "execution_count": null,
   "metadata": {
    "scrolled": false
   },
   "outputs": [],
   "source": [
    "# Plot the horizontal phase space\n",
    "\n",
    "fig = plt.figure(dpi=300)\n",
    "fig.set_size_inches(9,9)\n",
    "axis = fig.add_subplot(111)\n",
    "\n",
    "# TODO: plot"
   ]
  },
  {
   "cell_type": "markdown",
   "metadata": {},
   "source": [
    "<html>\n",
    "    <div class=\"alert alert-info\" style=\"background-color:rgba(255, 0, 0, 0.6);\n",
    "                                         margin-top:10px;\n",
    "                                         color:white;\n",
    "                                         border-color:rgba(255, 0, 0, 0.3)\">\n",
    "        <strong>TODO:</strong>\n",
    "        <ul>\n",
    "            <li>Plot the vertical phase space $(y, p_y)$</li>\n",
    "        </ul>\n",
    "    </div>\n",
    "</html>"
   ]
  },
  {
   "cell_type": "code",
   "execution_count": null,
   "metadata": {},
   "outputs": [],
   "source": [
    "# Plot the vertical phase space\n",
    "fig = plt.figure(dpi=300)\n",
    "fig.set_size_inches(9,9)\n",
    "axis = fig.add_subplot(111)\n",
    "\n",
    "# TODO: plot"
   ]
  },
  {
   "cell_type": "markdown",
   "metadata": {},
   "source": [
    "## Twiss parameter tracking\n",
    "You already learnt that we can characterise the beamline by so called Twiss parameters ($\\alpha$, $\\beta$, $\\gamma$).\n",
    "As given in page 28 of `pam-s6-2.pdf` (equivalently also given in page 67 of `pam-s5.pdf`), for $u=x$ or $y$, we're able to propagate the Twiss parameters through a transfer matrix by\n",
    "\\begin{equation}\n",
    "J_u(s_1) = M_u(s_0, s_1)\\cdot J_u(s_0)\\cdot M_u^T(s_0, s_1),\n",
    "\\end{equation}\n",
    "where\n",
    "\\begin{equation}\n",
    "J_x(s) = \n",
    "\\begin{pmatrix}\n",
    "\\beta_x(s) & -\\alpha_x(s)\\\\\n",
    "-\\alpha_x(s) & \\gamma_x(s)\n",
    "\\end{pmatrix},\n",
    "J_y(s) = \n",
    "\\begin{pmatrix}\n",
    "\\beta_y(s) & -\\alpha_y(s)\\\\\n",
    "-\\alpha_y(s) & \\gamma_y(s)\n",
    "\\end{pmatrix}\n",
    "\\end{equation}\n",
    "and $M_x$, $M_y$ are the $2\\times2$ sub-matrices of the $6\\times6$ transfer matrix $M$. We also know that\n",
    "\\begin{equation}\n",
    "\\gamma_x = \\frac{1+\\alpha_x^2}{\\beta_x}, \\gamma_y = \\frac{1+\\alpha_y^2}{\\beta_y}\n",
    "\\end{equation}\n",
    "We now track the Twiss parameters. We still have length $L=1\\ m$ and focal length $f_0 = \\sqrt{2}\\ m$.\n",
    "<html>\n",
    "    <div class=\"alert alert-info\" style=\"background-color:rgba(255, 0, 0, 0.6);\n",
    "                                         margin-top:10px;\n",
    "                                         color:white;\n",
    "                                         border-color:rgba(255, 0, 0, 0.3)\">\n",
    "        <strong>TODO:</strong>\n",
    "        <ul>\n",
    "            <li>Calculate the initial Twiss parameters $\\alpha_{x0}, \\beta_{x0}, \\alpha_{y0}, \\beta_{y0}$ at the starting point of the FODO cell. You only need to write the normalization of $P$. </li>\n",
    "        </ul>\n",
    "    </div>\n",
    "</html>"
   ]
  },
  {
   "cell_type": "markdown",
   "metadata": {},
   "source": [
    "# From Lecture 6-2 we know that\n",
    "$$M_{OTM} = PD(\\mu)P^{-1}$$\n",
    "where $M_{OTM}$ is the 2x2 matrix of one turn map (here our FODO cell map), $D$ is the diagonal matrix of the eigenvalues, and P is the matrix composed of all eigenvectors. We also have\n",
    "$$P[0,0]=\\sqrt{\\frac{\\beta}{2}}$$\n",
    "$$P[1,0]=\\frac{-\\alpha+i}{\\sqrt{2\\beta}}$$\n",
    "where $\\alpha, \\beta$ are the Twiss parameters at the starting point of a period. (P23 of lecture 6-2)\n",
    "\n",
    "We can calculate like this\n",
    "```python\n",
    "import numpy as np\n",
    "import np.linalg as la\n",
    "\n",
    "M_OTM = ... # the FODO map\n",
    "eigenvalues, P = la.eig(M_OTM) # get eigenvalues and P; P is before the normalization\n",
    "P = ...  # normalize P such that la.det(P)=-1j\n",
    "D = np.diag(eigenvalues) # compose D\n",
    "\n",
    "# Compute beta and alpha\n",
    "beta = np.real(P[0,0]**2*2)\n",
    "alpha = -np.real(P[1,0]*np.sqrt(2*beta))\n",
    "```"
   ]
  },
  {
   "cell_type": "code",
   "execution_count": null,
   "metadata": {},
   "outputs": [],
   "source": [
    "import np.linalg as la\n",
    "\n",
    "def get_twiss_initial(M_OTM_2x2):\n",
    "    eigenvalues, P = la.eig(M_OTM_2x2)\n",
    "    P=#... # normalize P such that la.det(P)=-1j\n",
    "    D=np.diag(eigenvalues)\n",
    "    # Compute beta and alpha\n",
    "    beta=np.real(P[0,0]**2*2)\n",
    "    alpha=-np.real(P[1,0]*np.sqrt(2*beta))\n",
    "    return alpha, beta\n",
    "\n",
    "L = 1 # m\n",
    "f0 = np.sqrt(2.0) # m\n",
    "# for x plane\n",
    "ax0, bx0 = get_twiss_initial(M_OTM_2x2=#...)\n",
    "print ('alpha_x0   =', ax0)\n",
    "print ('beta_x0    =', bx0)\n",
    "# calculate gamma\n",
    "gx0 = # ...\n",
    "# for y plane\n",
    "ay0, by0 = get_twiss_initial(M_OTM_2x2=#...)\n",
    "print ('alpha_y0   =', ay0)\n",
    "print ('beta_y0    =', by0)\n",
    "# calculate gamma\n",
    "gy0 = #..."
   ]
  },
  {
   "cell_type": "markdown",
   "metadata": {},
   "source": [
    "<html>\n",
    "    <div class=\"alert alert-info\" style=\"background-color:rgba(255, 0, 0, 0.6);\n",
    "                                         margin-top:10px;\n",
    "                                         color:white;\n",
    "                                         border-color:rgba(255, 0, 0, 0.3)\">\n",
    "        <strong>TODO:</strong>\n",
    "        <ul>\n",
    "            <li>Compare the above results with the following relation on page 81-82 in pam-s5.pdf:\n",
    "            $$\n",
    "                \\begin{align*}\n",
    "                \\alpha_x &= 0, \\quad\n",
    "                \\beta_x = \\frac{2f_0(2f_0+L)}{\\sqrt{4f_0^2-L^2}}\\\\\n",
    "                \\alpha_y &= 0,\\quad\n",
    "                \\beta_y = \\frac{2f_0(2f_0-L)}{\\sqrt{4f_0^2-L^2}}\n",
    "                \\end{align*}\n",
    "            $$\n",
    "            </li>\n",
    "        </ul>\n",
    "    </div>\n",
    "</html>"
   ]
  },
  {
   "cell_type": "code",
   "execution_count": null,
   "metadata": {},
   "outputs": [],
   "source": [
    "# TODO\n",
    "ax0_new = ...\n",
    "bx0_new = ...\n",
    "\n",
    "ay0_new = ...\n",
    "by0_new = ..."
   ]
  },
  {
   "cell_type": "markdown",
   "metadata": {},
   "source": [
    "You should get the same results as above. Note that in ```Map.py```, we define the transpose of the matrix as a property/attibute. You can directly call `M.T` to get the transpose of the transfer matrix of the element.\n",
    "```Python\n",
    "def getT(self):\n",
    "        \"\"\"\n",
    "        Returns the transpose of the matrix.\n",
    "        \n",
    "        Does *not* conjugate!\n",
    "        \"\"\"\n",
    "        return self.R.T\n",
    "    \n",
    "# makes m.T possible\n",
    "T = property(getT, None)\n",
    "```"
   ]
  },
  {
   "cell_type": "markdown",
   "metadata": {},
   "source": [
    "### One Cell\n",
    "<html>\n",
    "    <div class=\"alert alert-info\" style=\"background-color:rgba(255, 0, 0, 0.6);\n",
    "                                         margin-top:10px;\n",
    "                                         color:white;\n",
    "                                         border-color:rgba(255, 0, 0, 0.3)\">\n",
    "        <strong>TODO:</strong>\n",
    "        <ul>\n",
    "            <li>Track the Twiss</li>\n",
    "            <li>Collect every state</li>\n",
    "        </ul>\n",
    "    </div>\n",
    "</html>"
   ]
  },
  {
   "cell_type": "code",
   "execution_count": null,
   "metadata": {
    "scrolled": false
   },
   "outputs": [],
   "source": [
    "# initial container of the twiss parameters\n",
    "twiss = [[ax0, bx0, gx0, ay0, by0, gy0]]\n",
    "\n",
    "# number of elements in one cell\n",
    "n_elements = 5\n",
    "\n",
    "RQ1 = ... # horizontally focusing quadrupole\n",
    "RD  = ... # drift\n",
    "RQ2 = ... # vertically focusing quadrupole\n",
    "\n",
    "s = [0, 0, L, L, 2*L] # position of each elements\n",
    "\n",
    "Jx = ... # submatrix in x plane\n",
    "Jy = ... # submatrix in y plane\n",
    "\n",
    "for M in [RQ1, RD, RQ2, RD, RQ1]:\n",
    "    # TODO: propagate\n",
    "    Jx = ...\n",
    "    Jy = ...\n",
    "    \n",
    "    # TODO: extract Twiss from Jx and Jy\n",
    "    # a_x, b_x, g_x,\n",
    "    # a_y, b_y, g_y\n",
    "    t = [...]\n",
    "    \n",
    "    # collect all twiss\n",
    "    twiss = np.append(twiss, t)\n",
    "    \n",
    "twiss = np.reshape(twiss, (n_elements, 6))"
   ]
  },
  {
   "cell_type": "markdown",
   "metadata": {},
   "source": [
    "<html>\n",
    "    <div class=\"alert alert-info\" style=\"background-color:rgba(255, 0, 0, 0.6);\n",
    "                                         margin-top:10px;\n",
    "                                         color:white;\n",
    "                                         border-color:rgba(255, 0, 0, 0.3)\">\n",
    "        <strong>TODO:</strong>\n",
    "        <ul>\n",
    "            <li>Plot $\\beta_x$ and $\\beta_y$. Use the positions $s$ as the x axis.</li>\n",
    "        </ul>\n",
    "    </div>\n",
    "</html>"
   ]
  },
  {
   "cell_type": "code",
   "execution_count": null,
   "metadata": {},
   "outputs": [],
   "source": [
    "fig = plt.figure(dpi=300)\n",
    "fig.set_size_inches(9,9)\n",
    "axis = fig.add_subplot(111)\n",
    "axis.set_xlabel('s [m]')\n",
    "axis.set_ylabel(r'$\\beta\\ [m]$')\n",
    "\n",
    "# TODO: plot\n",
    "axis.plot(s, twiss[...], label=r'$\\beta_x$')\n",
    "#...\n",
    "plt.show()"
   ]
  },
  {
   "cell_type": "markdown",
   "metadata": {},
   "source": [
    "### N Cells\n",
    "<html>\n",
    "    <div class=\"alert alert-info\" style=\"background-color:rgba(255, 0, 0, 0.6);\n",
    "                                         margin-top:10px;\n",
    "                                         color:white;\n",
    "                                         border-color:rgba(255, 0, 0, 0.3)\">\n",
    "        <strong>TODO:</strong>\n",
    "        <ul>\n",
    "            <li>Track the Twiss through $n=3$ cells</li>\n",
    "            <li>Collect every state</li>\n",
    "        </ul>\n",
    "    </div>\n",
    "</html>"
   ]
  },
  {
   "cell_type": "code",
   "execution_count": null,
   "metadata": {
    "scrolled": false
   },
   "outputs": [],
   "source": [
    "# re-define\n",
    "twiss = ...\n",
    "\n",
    "Jx = ...\n",
    "Jy = ...\n",
    "\n",
    "# number of elements in one cell\n",
    "n_elements = 5\n",
    "# number of cells\n",
    "n_cells = 3\n",
    "\n",
    "s = []\n",
    "\n",
    "for i in range(0, n_cells):\n",
    "    \n",
    "    s = s + [2*L*i, 2*L*i, 2*L*i+L, 2*L*i + L, 2*L*i + 2*L] # position of each elements\n",
    "    \n",
    "    for M in [RQ1, RD, RQ2, RD, RQ1]:\n",
    "        # TODO: propagate\n",
    "        Jx = ...\n",
    "        Jy = ...\n",
    "    \n",
    "        # TODO: extract Twiss from Jx and Jy\n",
    "        # a_x, b_x, g_x,\n",
    "        # a_y, b_y, g_y\n",
    "        t = [...]\n",
    "    \n",
    "        # collect all twiss\n",
    "        twiss = np.append(twiss, t)\n",
    "    \n",
    "twiss = np.reshape(twiss, (n_cells*n_elements, 6))"
   ]
  },
  {
   "cell_type": "markdown",
   "metadata": {},
   "source": [
    "<html>\n",
    "    <div class=\"alert alert-info\" style=\"background-color:rgba(255, 0, 0, 0.6);\n",
    "                                         margin-top:10px;\n",
    "                                         color:white;\n",
    "                                         border-color:rgba(255, 0, 0, 0.3)\">\n",
    "        <strong>TODO:</strong>\n",
    "        <ul>\n",
    "            <li>Plot $\\beta_x$ and $\\beta_y$. Use the positions $s$ as the x axis.</li>\n",
    "        </ul>\n",
    "    </div>\n",
    "</html>"
   ]
  },
  {
   "cell_type": "code",
   "execution_count": null,
   "metadata": {},
   "outputs": [],
   "source": [
    "fig = plt.figure(dpi=300)\n",
    "fig.set_size_inches(9,9)\n",
    "axis = fig.add_subplot(111)\n",
    "axis.set_xlabel('s [m]')\n",
    "axis.set_ylabel(r'$\\beta\\ [m]$')\n",
    "\n",
    "# TODO: plot\n",
    "\n",
    "plt.show()"
   ]
  },
  {
   "cell_type": "markdown",
   "metadata": {},
   "source": [
    "<html>\n",
    "    <div class=\"alert alert-info\" style=\"background-color:rgba(255, 0, 0, 0.6);\n",
    "                                         margin-top:10px;\n",
    "                                         color:white;\n",
    "                                         border-color:rgba(255, 0, 0, 0.3)\">\n",
    "        <strong>TODO:</strong>\n",
    "        <ul>\n",
    "            <li>Plot $\\alpha_x$ and $\\alpha_y$. Use the positions $s$ as the x axis.</li>\n",
    "        </ul>\n",
    "    </div>\n",
    "</html>"
   ]
  },
  {
   "cell_type": "code",
   "execution_count": null,
   "metadata": {
    "scrolled": false
   },
   "outputs": [],
   "source": [
    "fig = plt.figure(dpi=300)\n",
    "fig.set_size_inches(9,9)\n",
    "axis = fig.add_subplot(111)\n",
    "axis.set_xlabel('s [m]')\n",
    "axis.set_ylabel(r'$\\alpha\\ [ ]$')\n",
    "\n",
    "# TODO: plot\n",
    "\n",
    "plt.show()"
   ]
  },
  {
   "cell_type": "markdown",
   "metadata": {},
   "source": [
    "<html>\n",
    "    <div class=\"alert alert-info\" style=\"background-color:rgba(255, 0, 0, 0.6);\n",
    "                                         margin-top:10px;\n",
    "                                         color:white;\n",
    "                                         border-color:rgba(255, 0, 0, 0.3)\">\n",
    "        <strong>TODO:</strong>\n",
    "        <ul>\n",
    "            <li>Plot $\\gamma_x$ and $\\gamma_y$. Use the positions $s$ as the x axis.</li>\n",
    "        </ul>\n",
    "    </div>\n",
    "</html>"
   ]
  },
  {
   "cell_type": "code",
   "execution_count": null,
   "metadata": {
    "scrolled": false
   },
   "outputs": [],
   "source": [
    "fig = plt.figure(dpi=300)\n",
    "fig.set_size_inches(9,9)\n",
    "axis = fig.add_subplot(111)\n",
    "axis.set_xlabel('s [m]')\n",
    "axis.set_ylabel(r'$\\gamma\\ [\\frac{1}{m}]$')\n",
    "\n",
    "# TODO: plot\n",
    "\n",
    "plt.show()"
   ]
  }
 ],
 "metadata": {
  "kernelspec": {
   "display_name": "pyAcceLEGOrator.venv",
   "language": "python",
   "name": "pyaccelegorator.venv"
  },
  "language_info": {
   "codemirror_mode": {
    "name": "ipython",
    "version": 3
   },
   "file_extension": ".py",
   "mimetype": "text/x-python",
   "name": "python",
   "nbconvert_exporter": "python",
   "pygments_lexer": "ipython3",
   "version": "3.8.1"
  }
 },
 "nbformat": 4,
 "nbformat_minor": 2
}
