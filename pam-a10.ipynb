{
 "cells": [
  {
   "cell_type": "markdown",
   "metadata": {},
   "source": [
    "# Assignment 10: Collider with RF cavity\n",
    "\n",
    "<html>\n",
    "<div class=\"alert alert-info\" role=\"alert\" style=\"margin-top: 10px\">\n",
    "    <ul>\n",
    "        <li>Parse MADX file of a collider</li>\n",
    "        <li>Implement thin RF cavity trasfer matrix and insert into collider</li>\n",
    "        <li>Track Twiss and dispersion</li>\n",
    "    </ul>\n",
    "</div>\n",
    "</html>"
   ]
  },
  {
   "cell_type": "markdown",
   "metadata": {},
   "source": [
    "<html>\n",
    "    <div class=\"alert alert-info\" style=\"background-color:rgba(255, 0, 0, 0.6);\n",
    "                                         margin-top:10px;\n",
    "                                         color:white;\n",
    "                                         border-color:rgba(255, 0, 0, 0.3)\">\n",
    "        <strong>If you use google colab, run this cell:</strong>\n",
    "    </div>\n",
    "</html>"
   ]
  },
  {
   "cell_type": "code",
   "execution_count": null,
   "metadata": {},
   "outputs": [],
   "source": [
    "# for google colab, run this cell\n",
    "!git clone https://github.com/potato18z/pam1-hs2021.git\n",
    "import sys\n",
    "sys.path.append('./pam1-hs2021')"
   ]
  },
  {
   "cell_type": "markdown",
   "metadata": {},
   "source": [
    "<html>\n",
    "    <div class=\"alert alert-info\" style=\"background-color:rgba(255, 0, 0, 0.6);\n",
    "                                         margin-top:10px;\n",
    "                                         color:white;\n",
    "                                         border-color:rgba(255, 0, 0, 0.3)\">\n",
    "<strong>If you run it locally, run</strong>\n",
    "               </div>\n",
    "</html>\n",
    "\n",
    "```bash\n",
    "$ cd .../pam1-hs2021\n",
    "...pam1-hs2021$ git pull\n",
    "```\n",
    "<html>\n",
    "    <div class=\"alert alert-info\" style=\"background-color:rgba(255, 0, 0, 0.6);\n",
    "                                         margin-top:10px;\n",
    "                                         color:white;\n",
    "                                         border-color:rgba(255, 0, 0, 0.3)\">\n",
    "to get the updated repository.</div></html>"
   ]
  },
  {
   "cell_type": "markdown",
   "metadata": {},
   "source": [
    "## Load MADX file\n",
    "A PSI colleague prepared a fantasy collider example in MAD-X. In the first cell we parse this file using our ```MADXParser``` class. This class provides some useful functions and attributes for you:\n",
    "```Python\n",
    "madx = MADXParser()\n",
    "    \n",
    "# fn is the MAD-X file to parse\n",
    "madx.parse(fn)\n",
    "    \n",
    "# returns all elements in ascending order in a list.\n",
    "madx.getBeamline()\n",
    "\n",
    "# returns an instance of the particle, e.g. proton, electron, etc.\n",
    "madx.getParticle()\n",
    "\n",
    "# returns the total energy [GeV]\n",
    "madx.getEtot()\n",
    "```"
   ]
  },
  {
   "cell_type": "code",
   "execution_count": null,
   "metadata": {},
   "outputs": [],
   "source": [
    "from AcceLEGOrator.MADXParser import *\n",
    "\n",
    "try:\n",
    "    madx = MADXParser()\n",
    "    \n",
    "    madx.parse('madx/collider_madx.mad')\n",
    "    \n",
    "    print(madx)\n",
    "    \n",
    "    beamline = madx.getBeamline()\n",
    "    \n",
    "except Exception as e:\n",
    "    print(e)"
   ]
  },
  {
   "cell_type": "markdown",
   "metadata": {},
   "source": [
    "## Thin RF-Cavity\n",
    "From the Eq. (36) of `pam-s9` we know\n",
    "$$\n",
    "R =\n",
    "\\begin{pmatrix}\n",
    "1 & 0 & 0 & 0 & 0 & 0 \\\\\n",
    "0 & 1 & 0 & 0 & 0 & 0 \\\\\n",
    "0 & 0 & 1 & 0 & 0 & 0 \\\\\n",
    "0 & 0 & 0 & 1 & 0 & 0 \\\\\n",
    "0 & 0 & 0 & 0 & 1 & 0 \\\\\n",
    "0 & 0 & 0 & 0 & -\\frac{1}{f_{||}} & 1 \\\\\n",
    "\\end{pmatrix},\n",
    "$$\n",
    "where\n",
    "$$\n",
    "\\frac{1}{f_{||}} = \\frac{q\\hat{V}}{P_0c}k\\cos\\phi_0,\n",
    "$$\n",
    "with voltage $\\hat{V}$, $k=2\\pi f_{RF}/c$ where $f_{RF}$ is the RF frequency, and $\\phi_0$ is the RF phase.\n",
    "\n",
    "Note that we need to calculate the energy gain through the cavity, and change the gamma factor accordingly. The energy gain due to the RF-Cavity is given by\n",
    "$$\n",
    "\\Delta W = |q|\\hat{V}T\\cos(\\phi_0),\n",
    "$$\n",
    "with voltage $\\hat{V}$, charge $q$, RF phase $\\phi_0$ and transit time factor\n",
    "$$\n",
    "T = \\frac{2\\beta_0}{\\pi}\\sin\\left(\\frac{\\pi}{2\\beta_0}\\right).\n",
    "$$"
   ]
  },
  {
   "cell_type": "markdown",
   "metadata": {},
   "source": [
    "<html>\n",
    "    <div class=\"alert alert-info\" style=\"background-color:rgba(255, 0, 0, 0.6);\n",
    "                                         margin-top:10px;\n",
    "                                         color:white;\n",
    "                                         border-color:rgba(255, 0, 0, 0.3)\">\n",
    "<strong>TODO</strong>\n",
    "        <ol>\n",
    "            <li>Implement the Thin RF-Cavity map.</li>\n",
    "        </ol>\n",
    "               </div>\n",
    "</html>"
   ]
  },
  {
   "cell_type": "code",
   "execution_count": null,
   "metadata": {},
   "outputs": [],
   "source": [
    "from AcceLEGOrator import Map, Physics, Constants\n",
    "from AcceLEGOrator import Parameter as param\n",
    "import numpy as np\n",
    "\n",
    "class ThinRfCavity(Map):\n",
    "    \n",
    "    # param voltage [V]\n",
    "    # param freq RF frequency [MHz]\n",
    "    # param phase [rad]\n",
    "    def __init__(self, V, freq, phase):\n",
    "        \n",
    "        self.V = V\n",
    "        self.freq = freq\n",
    "        self.phase = phase\n",
    "        \n",
    "        beta_0  = Physics.getBeta(param.gamma_0)\n",
    "        \n",
    "        c = Constants.clight\n",
    "        \n",
    "        #  [k] = 1 / m\n",
    "        k = ...\n",
    "        \n",
    "        # [P0] = eV / c\n",
    "        P0 = param.mass * 1e6 * param.gamma_0 * beta_0\n",
    "        \n",
    "        # [f_inv] = m\n",
    "        f_inv = ...\n",
    "        \n",
    "        R = np.matrix([[1, 0, 0, 0, 0, 0],\n",
    "                       [0, 1, 0, 0, 0, 0],\n",
    "                       [0, 0, 1, 0, 0, 0],\n",
    "                       [0, 0, 0, 1, 0, 0],\n",
    "                       [0, 0, 0, 0, 1, 0],\n",
    "                       [0, 0, 0, 0, ..., 1]])\n",
    "        \n",
    "        # transit time factor\n",
    "        T = ...\n",
    "        \n",
    "        # energy gain [MeV]\n",
    "        W = ...\n",
    "        \n",
    "        # new relativistic factor and logging\n",
    "        self.gamma_before = param.gamma_0\n",
    "        param.gamma_0 += W / param.mass\n",
    "        self.gamma_after = param.gamma_0\n",
    "        \n",
    "        super(ThinRfCavity, self).__init__(R, 0)\n",
    "    \n",
    "    \n",
    "    def __str__(self):\n",
    "        return 'ThinRfCavity(V = ' + str(self.V) + ' [V], '\\\n",
    "               + 'rf freq = ' + str(self.freq) + ' [MHz], '\\\n",
    "               + 'rf phase = ' + str(self.phase) + ' [rad])\\n'\n",
    "    \n",
    "    def get(self, length):\n",
    "        return ThinRfCavity(self.V, self.freq, self.phase)"
   ]
  },
  {
   "cell_type": "markdown",
   "metadata": {},
   "source": [
    "<html>\n",
    "    <div class=\"alert alert-info\" role=\"alert\" style=\"margin-top: 10px\">\n",
    "        Our collider will have two RF-Cavities with $\\hat{V} = 0.001$ MV, $\\phi = 0$ and\n",
    "        $f_{rf} = 10^{-4}$ MHz.\n",
    "    </div>\n",
    "</html>"
   ]
  },
  {
   "cell_type": "code",
   "execution_count": null,
   "metadata": {},
   "outputs": [],
   "source": [
    "RF = ThinRfCavity(V=1000, freq=1e-4, phase=0)"
   ]
  },
  {
   "cell_type": "markdown",
   "metadata": {},
   "source": [
    "## Find where to insert the cavities by tracking the dispersion"
   ]
  },
  {
   "cell_type": "markdown",
   "metadata": {},
   "source": [
    "<html>\n",
    "    <div class=\"alert alert-info\" style=\"background-color:rgba(255, 0, 0, 0.6);\n",
    "                                         margin-top:10px;\n",
    "                                         color:white;\n",
    "                                         border-color:rgba(255, 0, 0, 0.3)\">\n",
    "        <strong>TODO:</strong>\n",
    "        <ol>\n",
    "            <li>Use the function `trackDispersion` in `Tracking.py` to track the dispersion with the following initial values. Since we alreadyd have the entire beamline, we should set cell=beamline and n_cells=1.</li>\n",
    "            $$\\begin{pmatrix}D_x \\\\ D_{p_x} \\\\ 1 \\end{pmatrix}\n",
    "            =\\begin{pmatrix} 0.5069938765 \\\\ −0.1681363086 \\\\ 1\\end{pmatrix}$$\n",
    "            <li>plot the result</li>\n",
    "        </ol>\n",
    "    </div>\n",
    "</html>\n",
    "\n",
    "You can find more details about dispersion in\n",
    "[this link](https://indico.cern.ch/event/471931/contributions/1149878/attachments/1214721/1794333/Lectures.pdf)\n",
    "\n",
    "(For a FODO cell, the calculation of initial dispersion is given in Slide 119)"
   ]
  },
  {
   "cell_type": "code",
   "execution_count": null,
   "metadata": {},
   "outputs": [],
   "source": [
    "from AcceLEGOrator import Tracking\n",
    "initial_dispersion = [0.5069938765, -0.1681363086, 1]\n",
    "all_dispersions, lengths = Tracking.trackDispersion(...)"
   ]
  },
  {
   "cell_type": "code",
   "execution_count": null,
   "metadata": {},
   "outputs": [],
   "source": [
    "import matplotlib.pyplot as plt\n",
    "\n",
    "fig = plt.figure(dpi=300)\n",
    "fig.set_size_inches(9,3)\n",
    "axis = fig.add_subplot(111)\n",
    "axis.set_xlabel('s [m]')\n",
    "axis.set_ylabel('Dispersion [m]')\n",
    "\n",
    "axis.plot(lengths, ..., label=r'$D_x$', color='lightgreen')\n",
    "axis.plot(lengths, ..., label=r'$D_{p_x}$', color='gray')\n",
    "axis.legend()\n",
    "\n",
    "plt.show()"
   ]
  },
  {
   "cell_type": "markdown",
   "metadata": {},
   "source": [
    "<html>\n",
    "    <div class=\"alert alert-info\" style=\"background-color:rgba(255, 0, 0, 0.6);\n",
    "                                         margin-top:10px;\n",
    "                                         color:white;\n",
    "                                         border-color:rgba(255, 0, 0, 0.3)\">\n",
    "        <strong>TODO:</strong>\n",
    "        <ol>\n",
    "            <li>Locate the middle index of the two regions in the beamline where dispersion is zero</li>\n",
    "            <li>Insert the above defined Thin RF-Cavity to the two locations.</li>\n",
    "        </ol>\n",
    "    </div>\n",
    "</html>"
   ]
  },
  {
   "cell_type": "code",
   "execution_count": null,
   "metadata": {},
   "outputs": [],
   "source": [
    "# find where all_dispersions[:,0] are close to zero, then find the middle point\n",
    "index1 = ...\n",
    "index2 = ...\n",
    "beamline.insert(index1, RF)\n",
    "beamline.insert(index1, RF)"
   ]
  },
  {
   "cell_type": "markdown",
   "metadata": {},
   "source": [
    "## Tracking of $\\beta$\n",
    "\n",
    "We will repreduce this plot:\n",
    "![twiss_dispersion_rf](img/twiss_dispersion_rf.png)\n",
    "\n",
    "<html>\n",
    "    <div class=\"alert alert-info\" style=\"background-color:rgba(255, 0, 0, 0.6);\n",
    "                                         margin-top:10px;\n",
    "                                         color:white;\n",
    "                                         border-color:rgba(255, 0, 0, 0.3)\">\n",
    "        <strong>TODO:</strong>\n",
    "        <ul>\n",
    "            <li>Use `trackTwiss` and `trackDispersion` in `Tracking.py` to reproduce the above plot. Now our beamline has been changed, so we need to redo the tracking.</li>\n",
    "        </ul>\n",
    "    </div>\n",
    "</html>"
   ]
  },
  {
   "cell_type": "code",
   "execution_count": null,
   "metadata": {},
   "outputs": [],
   "source": [
    "all_twiss, lengths = Tracking.trackTwiss(..., twiss_init=None)\n",
    "all_dispersions, _ = Tracking.trackDispersion(...)\n",
    "\n",
    "fig = plt.figure(dpi=150)\n",
    "fig.set_size_inches(6,6)\n",
    "axis = fig.add_subplot(111)\n",
    "axis.set_xlabel('s [m]')\n",
    "axis.set_ylabel(r'$\\beta_x(m), \\beta_y(m), D_x(m)$')\n",
    "\n",
    "axis.plot(lengths, ..., label=r'$\\beta_x$', color='black')\n",
    "axis.plot(lengths, ..., label=r'$\\beta_y$', color='red')\n",
    "axis.plot(lengths, ..., label=r'$D_x$', color='lightgreen')\n",
    "axis.set_xlim([0, 250])\n",
    "axis.set_ylim([-50, 450])\n",
    "axis.legend()\n",
    "\n",
    "plt.show()"
   ]
  },
  {
   "cell_type": "markdown",
   "metadata": {},
   "source": [
    "## Energy change\n",
    "\n",
    "Note that we have define `gamma_before` and `gamma_after` for the RF cavity. This is to log the energy change due to the cavity.\n",
    "<html>\n",
    "    <div class=\"alert alert-info\" style=\"background-color:rgba(255, 0, 0, 0.6);\n",
    "                                         margin-top:10px;\n",
    "                                         color:white;\n",
    "                                         border-color:rgba(255, 0, 0, 0.3)\">\n",
    "        <strong>TODO:</strong>\n",
    "        <ul>\n",
    "            <li>For the two cativies in our beamline, print the gamma factors before and after them to see the energy change.</li>\n",
    "            <li>*Bonus: Plot the energy against lengths s. You should get a 2-step ladder shape.</li>\n",
    "        </ul>\n",
    "    </div>\n",
    "</html>"
   ]
  },
  {
   "cell_type": "code",
   "execution_count": null,
   "metadata": {},
   "outputs": [],
   "source": [
    "RF_1 = beamline[index1]\n",
    "RF_2 = beamline[index2]\n",
    "#print(...)"
   ]
  }
 ],
 "metadata": {
  "kernelspec": {
   "display_name": "pyAcceLEGOrator.venv",
   "language": "python",
   "name": "pyaccelegorator.venv"
  },
  "language_info": {
   "codemirror_mode": {
    "name": "ipython",
    "version": 3
   },
   "file_extension": ".py",
   "mimetype": "text/x-python",
   "name": "python",
   "nbconvert_exporter": "python",
   "pygments_lexer": "ipython3",
   "version": "3.8.1"
  }
 },
 "nbformat": 4,
 "nbformat_minor": 2
}
