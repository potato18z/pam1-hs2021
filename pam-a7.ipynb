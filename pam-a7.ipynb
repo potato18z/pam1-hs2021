{
 "cells": [
  {
   "cell_type": "markdown",
   "metadata": {},
   "source": [
    "# Assignment 7: FODO with Dipole & Tracking of second order moments\n",
    "\n",
    "<html>\n",
    "<div class=\"alert alert-info\" role=\"alert\" style=\"margin-top: 10px\">\n",
    "In this assignment you will\n",
    "    \n",
    "<ul>\n",
    "    <li>Create a FODO cell with dipoles inserted</li>\n",
    "    <li>Tracking of $\\beta$-function</li>\n",
    "    <li>Tracking of second order moments and emittance</li>\n",
    "    <li>Implement matched distribution</li>\n",
    "</ul>\n",
    "</div>\n",
    "</html>"
   ]
  },
  {
   "cell_type": "markdown",
   "metadata": {},
   "source": [
    "<html>\n",
    "    <div class=\"alert alert-info\" style=\"background-color:rgba(255, 0, 0, 0.6);\n",
    "                                         margin-top:10px;\n",
    "                                         color:white;\n",
    "                                         border-color:rgba(255, 0, 0, 0.3)\">\n",
    "        <strong>If you use google colab, run this cell:</strong>\n",
    "    </div>\n",
    "</html>"
   ]
  },
  {
   "cell_type": "code",
   "execution_count": null,
   "metadata": {},
   "outputs": [],
   "source": [
    "# for google colab, run this cell\n",
    "!git clone https://github.com/potato18z/pam1-hs2021.git\n",
    "import sys\n",
    "sys.path.append('./pam1-hs2021')"
   ]
  },
  {
   "cell_type": "markdown",
   "metadata": {},
   "source": [
    "<html>\n",
    "    <div class=\"alert alert-info\" style=\"background-color:rgba(255, 0, 0, 0.6);\n",
    "                                         margin-top:10px;\n",
    "                                         color:white;\n",
    "                                         border-color:rgba(255, 0, 0, 0.3)\">\n",
    "<strong>If you run it locally, run</strong>\n",
    "               </div>\n",
    "</html>\n",
    "\n",
    "```bash\n",
    "$ cd .../pam1-hs2021\n",
    "...pam1-hs2021$ git pull\n",
    "```\n",
    "<html>\n",
    "    <div class=\"alert alert-info\" style=\"background-color:rgba(255, 0, 0, 0.6);\n",
    "                                         margin-top:10px;\n",
    "                                         color:white;\n",
    "                                         border-color:rgba(255, 0, 0, 0.3)\">\n",
    "to get the updated repository.</div></html>"
   ]
  },
  {
   "cell_type": "markdown",
   "metadata": {},
   "source": [
    "## Initialization\n",
    "<html>\n",
    "    <div class=\"alert alert-info\" style=\"background-color:rgba(255, 0, 0, 0.6);\n",
    "                                         margin-top:10px;\n",
    "                                         color:white;\n",
    "                                         border-color:rgba(255, 0, 0, 0.3)\">\n",
    "        <strong>TODO:</strong>\n",
    "        <ul>\n",
    "            <li>Create the electron particle.</li>\n",
    "            <li>Given the total energy of $1000MeV$, compute $\\gamma$, $\\beta$, $p_0$ and $B\\rho.$</li>\n",
    "        </ul>\n",
    "    </div>\n",
    "</html>"
   ]
  },
  {
   "cell_type": "code",
   "execution_count": null,
   "metadata": {},
   "outputs": [],
   "source": [
    "import numpy as np\n",
    "import AcceLEGOrator.Parameter as param\n",
    "from AcceLEGOrator import Electron, Constants, Physics\n",
    "from AcceLEGOrator import Constants\n",
    "import numpy as np\n",
    "\n",
    "c = Constants.clight\n",
    "\n",
    "Etot = 1000.0 # MeV\n",
    "\n",
    "electron = Electron()\n",
    "\n",
    "# set global variables\n",
    "param.gamma_0 = #...\n",
    "param.mass = electron.mass # MeV / c^2\n",
    "param.charge = electron.charge # e\n",
    "\n",
    "beta0 = #...\n",
    "\n",
    "p0 = param.gamma_0 * beta0 * electron.mass   # MeV / c\n",
    "\n",
    "Brho = p0 / param.charge * 1e6 / c # T*m\n",
    "\n",
    "print('gamma =', param.gamma_0)\n",
    "print('beta  =', beta0)\n",
    "print('p     =', p0 , 'MeV/c')\n",
    "print('Br    =', Brho, 'Tm')"
   ]
  },
  {
   "cell_type": "markdown",
   "metadata": {},
   "source": [
    "## Create FODO with dipole\n",
    "<html>\n",
    "    <div class=\"alert alert-info\" style=\"background-color:rgba(255, 0, 0, 0.6);\n",
    "                                         margin-top:10px;\n",
    "                                         color:white;\n",
    "                                         border-color:rgba(255, 0, 0, 0.3)\">\n",
    "        <strong>TODO:</strong>\n",
    "        <ul>\n",
    "            <li>Instantiate a focusing quadrupole with $L = 0.2\\ [m]$ and $k_1 = 3.28\\ [1/m^2].$</li>\n",
    "            <li>Instantiate a defocusing quadrupole with $L = 0.2\\ [m]$ and $k_1 = -3.31\\ [1/m^2].$</li>\n",
    "        </ul>\n",
    "    </div>\n",
    "</html>\n",
    "To instantiate a Quadrupole of length $L$ and strength $k_1$, you need to compute its gradient of the magnetic field $gradB = \\frac{B}{r_0}$. Since $k_1 = \\frac{q}{P_0}\\frac{B}{r_0}$, we have\n",
    "\\begin{equation}\n",
    "gradB = k_1 \\cdot \\frac{P_0}{q} = k_1 [1/m^2]\\cdot B\\rho [Tm] = k_1\\cdot B\\rho [T/m]\n",
    "\\end{equation}\n",
    "from equation (34) of pam-s5.pdf. By directly using the beam rigidity, we can circumvent the unit issue."
   ]
  },
  {
   "cell_type": "code",
   "execution_count": null,
   "metadata": {},
   "outputs": [],
   "source": [
    "from AcceLEGOrator import Quadrupole\n",
    "\n",
    "# length [m]\n",
    "Lq = 0.2\n",
    "\n",
    "# focusing strength\n",
    "k1f = 3.28\n",
    "\n",
    "# magnetic field gradient [T/m]\n",
    "gradBf = #...\n",
    "\n",
    "# focusing quadrupole\n",
    "Qf = Quadrupole(Lq, gradBf)\n",
    "\n",
    "print('focusing Quadrupole:', Qf)\n",
    "\n",
    "# defocusing strength\n",
    "k1d = -3.31 # 1 / m^2\n",
    "\n",
    "# magnetic field gradient [T/m]\n",
    "gradBd = #...\n",
    "\n",
    "# defocusing quadrupole\n",
    "Qd = Quadrupole(Lq, gradBd)\n",
    "\n",
    "print('defocusing Quadrupole:', Qd)"
   ]
  },
  {
   "cell_type": "markdown",
   "metadata": {},
   "source": [
    "<html>\n",
    "    <div class=\"alert alert-info\" style=\"background-color:rgba(255, 0, 0, 0.6);\n",
    "                                         margin-top:10px;\n",
    "                                         color:white;\n",
    "                                         border-color:rgba(255, 0, 0, 0.3)\">\n",
    "        <strong>TODO:</strong>\n",
    "        <ul>\n",
    "            <li>Instantiate a dipole with $L = 1\\ [m]$ and $\\theta = 5\\ [°].$</li>\n",
    "        </ul>\n",
    "    </div>\n",
    "</html>\n",
    "To instantiate a Dipole of length $L$ you need to compute its magnetic field $B$. From the angle $\\theta$, you can compute its bending radius $\\rho$ by $\\rho=\\frac{L}{\\theta}$, then get $B$ from beam rigidity $B\\rho$."
   ]
  },
  {
   "cell_type": "code",
   "execution_count": null,
   "metadata": {},
   "outputs": [],
   "source": [
    "from AcceLEGOrator import Dipole\n",
    "\n",
    "# length [m]\n",
    "Ld = 1.0\n",
    "\n",
    "# angle [rad]\n",
    "theta = #...\n",
    "\n",
    "# bending radius [m]\n",
    "rho = #...\n",
    "\n",
    "# magnetic field [m]\n",
    "B = #...\n",
    "\n",
    "# dipole\n",
    "Di = Dipole(Ld, B, 0, 0)\n",
    "\n",
    "print('dipole:', Di)"
   ]
  },
  {
   "cell_type": "markdown",
   "metadata": {},
   "source": [
    "<html>\n",
    "    <div class=\"alert alert-info\" style=\"background-color:rgba(255, 0, 0, 0.6);\n",
    "                                         margin-top:10px;\n",
    "                                         color:white;\n",
    "                                         border-color:rgba(255, 0, 0, 0.3)\">\n",
    "        <strong>TODO:</strong>\n",
    "        <ul>\n",
    "            <li>Instantiate a Drift of length $0.5\\ [m].$</li>\n",
    "        </ul>\n",
    "    </div>\n",
    "</html>"
   ]
  },
  {
   "cell_type": "code",
   "execution_count": null,
   "metadata": {},
   "outputs": [],
   "source": [
    "from AcceLEGOrator import Drift\n",
    "\n",
    "# length [m]\n",
    "Ldr = 0.5\n",
    "\n",
    "# drift\n",
    "Dr = Drift(Ldr)\n",
    "\n",
    "print('drift:', Dr)"
   ]
  },
  {
   "cell_type": "markdown",
   "metadata": {},
   "source": [
    "<html>\n",
    "    <div class=\"alert alert-info\" style=\"background-color:rgba(255, 0, 0, 0.6);\n",
    "                                         margin-top:10px;\n",
    "                                         color:white;\n",
    "                                         border-color:rgba(255, 0, 0, 0.3)\">\n",
    "        <strong>TODO:</strong>\n",
    "        <ul>\n",
    "            <li>Create the cell:\n",
    "                $$\n",
    "                Q_f,\\ D_r,\\ D_i,\\ D_r,\\ Q_d,\\ D_r,\\ D_i,\\ D_r\n",
    "                $$\n",
    "                with focusing quadrupole $Q_f$, defocusing quadrupole $Q_d$, drift $D_r$ and dipole $D_i$.\n",
    "            </li>\n",
    "        </ul>\n",
    "    </div>\n",
    "</html>\n",
    "\n",
    "![image info](img/fodo_dipole.png)\n",
    "Image taking from https://arxiv.org/pdf/1303.6514.pdf"
   ]
  },
  {
   "cell_type": "code",
   "execution_count": null,
   "metadata": {},
   "outputs": [],
   "source": [
    "cell = [Qf, Dr, #...]"
   ]
  },
  {
   "cell_type": "markdown",
   "metadata": {},
   "source": [
    "<html>\n",
    "    <div class=\"alert alert-info\" style=\"background-color:rgba(255, 0, 0, 0.6);\n",
    "                                         margin-top:10px;\n",
    "                                         color:white;\n",
    "                                         border-color:rgba(255, 0, 0, 0.3)\">\n",
    "        <strong>TODO:</strong>\n",
    "        <ul>\n",
    "            <li>Compute the total length of the beamline</li>\n",
    "        </ul>\n",
    "    </div>\n",
    "</html>"
   ]
  },
  {
   "cell_type": "code",
   "execution_count": null,
   "metadata": {
    "scrolled": true
   },
   "outputs": [],
   "source": [
    "length = Qf.length + 4 * Dr.length + 2 * Di.length + Qd.length\n",
    "\n",
    "print('Total length:', length, 'm')"
   ]
  },
  {
   "cell_type": "markdown",
   "metadata": {},
   "source": [
    "## Tracking of $\\beta$-Functions\n",
    "\n",
    "<html>\n",
    "    <div class=\"alert alert-info\" style=\"background-color:rgba(255, 0, 0, 0.6);\n",
    "                                         margin-top:10px;\n",
    "                                         color:white;\n",
    "                                         border-color:rgba(255, 0, 0, 0.3)\">\n",
    "        <strong>TODO:</strong>\n",
    "        <ol>\n",
    "            <li>Calculate the initial Twiss parameters as in the last assignment.\n",
    "            <li>Track the Twiss parameters and store each state.</li>\n",
    "        </ol>\n",
    "    </div>\n",
    "</html>"
   ]
  },
  {
   "cell_type": "code",
   "execution_count": null,
   "metadata": {},
   "outputs": [],
   "source": [
    "from numpy import linalg as la\n",
    "\n",
    "def get_twiss_initial(M_OTM_2x2):\n",
    "    eigenvalues, P = la.eig(M_OTM_2x2)\n",
    "    P=P/((la.det(P)*1j)**(1/len(P))) # normalize P such that la.det(P)=-1j\n",
    "    print(la.det(P))\n",
    "    D=np.diag(eigenvalues)\n",
    "    # Compute beta and alpha\n",
    "    beta=np.real(P[0,0]**2*2)\n",
    "    alpha=-np.real(P[1,0]*np.sqrt(2*beta))\n",
    "    return alpha, beta"
   ]
  },
  {
   "cell_type": "markdown",
   "metadata": {},
   "source": [
    "<html>\n",
    "    <div class=\"alert alert-info\" style=\"background-color:rgba(255, 0, 0, 0.6);\n",
    "                                         margin-top:10px;\n",
    "                                         color:white;\n",
    "                                         border-color:rgba(255, 0, 0, 0.3)\">\n",
    "        <strong>TODO:</strong>\n",
    "        <ol>\n",
    "            <li>Calculate $M_{cell}$ by doing matrix multiplication.\n",
    "        </ol>\n",
    "    </div>\n",
    "</html>"
   ]
  },
  {
   "cell_type": "code",
   "execution_count": null,
   "metadata": {},
   "outputs": [],
   "source": [
    "M_cell = cell[0]\n",
    "for M in cell[1:]:\n",
    "    #..."
   ]
  },
  {
   "cell_type": "code",
   "execution_count": null,
   "metadata": {},
   "outputs": [],
   "source": [
    "# for x plane\n",
    "ax0, bx0 = #...\n",
    "gx0 = (1 + ax0**2) / bx0\n",
    "print ('alpha_x0   =', ax0)\n",
    "print ('beta_x0    =', bx0)\n",
    "print ('gamma_x0    =', gx0)\n",
    "\n",
    "# for y plane\n",
    "ay0, by0 = #...\n",
    "gy0 = (1 + ay0**2) / by0\n",
    "print ('alpha_y0   =', ay0)\n",
    "print ('beta_y0    =', by0)\n",
    "print ('gamma_y0    =', gy0)"
   ]
  },
  {
   "cell_type": "markdown",
   "metadata": {},
   "source": [
    "<html>\n",
    "    <div class=\"alert alert-info\" style=\"background-color:rgba(255, 0, 0, 0.6);\n",
    "                                         margin-top:10px;\n",
    "                                         color:white;\n",
    "                                         border-color:rgba(255, 0, 0, 0.3)\">\n",
    "        <strong>TODO:</strong>\n",
    "        <ol>\n",
    "            <li>Track the Twiss parameters for $n_{cells}=3$ by\n",
    "                \\begin{equation}\n",
    "J_u(s_1) = M_u(s_0, s_1)\\cdot J_u(s_0)\\cdot M_u^T(s_0, s_1),\n",
    "\\end{equation}\n",
    "where\n",
    "\\begin{equation}\n",
    "J_x(s) = \n",
    "\\begin{pmatrix}\n",
    "\\beta_x(s) & -\\alpha_x(s)\\\\\n",
    "-\\alpha_x(s) & \\gamma_x(s)\n",
    "\\end{pmatrix},\n",
    "J_y(s) = \n",
    "\\begin{pmatrix}\n",
    "\\beta_y(s) & -\\alpha_y(s)\\\\\n",
    "-\\alpha_y(s) & \\gamma_y(s)\n",
    "\\end{pmatrix}\n",
    "\\end{equation}\n",
    "                \n",
    "and $M_x$, $M_y$ are the $2\\times2$ sub-matrices of the $6\\times6$ transfer matrix $M$.\n",
    "</ol>\n",
    "</div>\n",
    "</html>"
   ]
  },
  {
   "cell_type": "code",
   "execution_count": null,
   "metadata": {},
   "outputs": [],
   "source": [
    "# initial container of the twiss parameters\n",
    "twiss = [[ax0, bx0, gx0, ay0, by0, gy0]]\n",
    "\n",
    "Jx = np.matrix([[bx0, -ax0],\n",
    "               [-ax0, gx0]]) # submatrix in x plane\n",
    "Jy = np.matrix([[by0, -ay0],\n",
    "               [-ay0, gy0]]) # submatrix in y plane\n",
    "\n",
    "# initial container of lengths of elements\n",
    "length_till_now = 0.\n",
    "lengths = [0,]\n",
    "n_cells = 3\n",
    "for i in range(n_cells):\n",
    "    for M in cell:\n",
    "        # TODO: length\n",
    "        length_till_now = #...\n",
    "        lengths #...\n",
    "    \n",
    "        # TODO: propagate\n",
    "        \n",
    "        Jx = #...\n",
    "        Jy = #...\n",
    "    \n",
    "        # TODO: extract Twiss from Jx and Jy\n",
    "        # a_x, b_x, g_x,\n",
    "        # a_y, b_y, g_y\n",
    "        t = [-Jx[0,1], #...]\n",
    "    \n",
    "        # collect all twiss\n",
    "        twiss = np.append(twiss, t)\n",
    "    \n",
    "twiss = np.reshape(twiss, (len(cell)*n_cells+1, 6))"
   ]
  },
  {
   "cell_type": "markdown",
   "metadata": {},
   "source": [
    "<html>\n",
    "    <div class=\"alert alert-info\" style=\"background-color:rgba(255, 0, 0, 0.6);\n",
    "                                         margin-top:10px;\n",
    "                                         color:white;\n",
    "                                         border-color:rgba(255, 0, 0, 0.3)\">\n",
    "        <strong>TODO:</strong>\n",
    "        <ul>\n",
    "            <li>Plot $\\beta_x$ (in black) and $\\beta_y$ (in red).</li>\n",
    "        </ul>\n",
    "    </div>\n",
    "</html>"
   ]
  },
  {
   "cell_type": "code",
   "execution_count": null,
   "metadata": {},
   "outputs": [],
   "source": [
    "import matplotlib.pyplot as plt\n",
    "\n",
    "fig = plt.figure(dpi=300)\n",
    "fig.set_size_inches(9,9)\n",
    "axis = fig.add_subplot(111)\n",
    "axis.set_xlabel('s [m]')\n",
    "axis.set_ylabel(r'$\\beta\\ [m]$')\n",
    "\n",
    "axis.plot(lengths, #..., label=r'$\\beta_x$', color='black')\n",
    "axis.plot(lengths, #..., label=r'$\\beta_y$', color='red')\n",
    "axis.legend()\n",
    "\n",
    "plt.show()"
   ]
  },
  {
   "cell_type": "markdown",
   "metadata": {},
   "source": [
    "## Tracking of second order moments\n",
    "Instead of tracking particles we might also track the second order moments of the distribution, i.e. the $\\sigma$-matrix.\n",
    "\n",
    "\\begin{equation}\n",
    "    \\sigma(s_1) = R\\cdot\\sigma(s_0)\\cdot R^T\n",
    "\\end{equation}\n",
    "where $R$ is the transfer matrix."
   ]
  },
  {
   "cell_type": "code",
   "execution_count": null,
   "metadata": {},
   "outputs": [],
   "source": [
    "from AcceLEGOrator import Gaussian, Bunch\n",
    "import AcceLEGOrator.Parameter as param\n",
    "import numpy as np\n",
    "\n",
    "mu = [0.0, 0.0, 0.0, 0.0, 0.0, 0.0]\n",
    "C  = np.array([[ 1.0, 0.01,  0,  0,  0, 0],\n",
    "               [ 0.01, 0.01, 0,  0,  0, 0],\n",
    "               [ 0,  0, 1.0,  0.01,  0, 0],\n",
    "               [ 0,  0, 0.01, 0.01,  0, 0],\n",
    "               [ 0,  0,  0,  0, 1.0, 0.0],\n",
    "               [ 0,  0,  0,  0,  0.0, 0.001]])\n",
    "Distr = Gaussian(mu, C)\n",
    "\n",
    "bunch = Bunch()\n",
    "bunch.create(distribution = Distr, N = 10000,\n",
    "             ptype = electron, ekin = Etot - electron.mass)\n",
    "\n",
    "print(bunch)"
   ]
  },
  {
   "cell_type": "markdown",
   "metadata": {},
   "source": [
    "### Sigma-Matrix\n",
    "\n",
    "The $\\sigma$-matrix or $\\Sigma$-matrix is given by\n",
    "$$\\sigma_{ij} = \\mathbb{E}\\left[(\\mathbf{x}_i - \\mu_i)(\\mathbf{x}_j - \\mu_j)\\right]=\n",
    "\\begin{pmatrix}\n",
    "\\langle x^2\\rangle & \\langle xx'\\rangle & \\langle xy\\rangle & \\langle xy'\\rangle & \\langle xz\\rangle & \\langle xz'\\rangle \\\\\n",
    "\\langle xx'\\rangle & \\langle x'^2\\rangle & \\langle x'y\\rangle & \\langle x'y'\\rangle & \\langle x'z\\rangle & \\langle x'z'\\rangle \\\\\n",
    "\\langle xy\\rangle & \\langle x'y\\rangle & \\langle y^2\\rangle & \\langle yy'\\rangle & \\langle yz\\rangle & \\langle yz'\\rangle \\\\\n",
    "\\langle xy'\\rangle & \\langle x'y'\\rangle & \\langle yy'\\rangle & \\langle y'^2\\rangle & \\langle y'z\\rangle & \\langle y'z'\\rangle \\\\\n",
    "\\langle xz\\rangle & \\langle x'z\\rangle & \\langle yz\\rangle & \\langle y'z\\rangle & \\langle z^2\\rangle & \\langle zz'\\rangle \\\\\n",
    "\\langle xz'\\rangle & \\langle x'z'\\rangle & \\langle yz'\\rangle & \\langle y'z'\\rangle & \\langle zz'\\rangle & \\langle z'^2\\rangle \\\\\n",
    "\\end{pmatrix}.\n",
    "$$ where the mean is $\\mu=0$ (as usual). \n",
    "<html>\n",
    "    <div class=\"alert alert-info\" style=\"background-color:rgba(255, 0, 0, 0.6);\n",
    "                                         margin-top:10px;\n",
    "                                         color:white;\n",
    "                                         border-color:rgba(255, 0, 0, 0.3)\">\n",
    "        <strong>TODO:</strong>\n",
    "        <ul>\n",
    "            <li>Write the following function to compute $\\sigma$.</li>\n",
    "        </ul>\n",
    "    </div>\n",
    "</html>"
   ]
  },
  {
   "cell_type": "code",
   "execution_count": null,
   "metadata": {},
   "outputs": [],
   "source": [
    "# --------------------------------------------\n",
    "# compute the sigma matrix\n",
    "# @param particles (6 x N)-dimensional matrix.\n",
    "# The state is given by (x, x', y, y', z, z')\n",
    "# @returns the (6 x 6) covariance matrix\n",
    "# --------------------------------------------\n",
    "def getMoments(particles):        \n",
    "    \n",
    "    #...\n",
    "    sigma = np.zeros(shape = (6, 6))\n",
    "    for i in range(0, 6):\n",
    "        #...\n",
    "        for j in range(i, 6):\n",
    "            #...\n",
    "                \n",
    "            sigma[i, j] = sigma[j, i] = #...\n",
    "        \n",
    "    return sigma"
   ]
  },
  {
   "cell_type": "markdown",
   "metadata": {},
   "source": [
    "<html>\n",
    "    <div class=\"alert alert-info\" style=\"background-color:rgba(255, 0, 0, 0.6);\n",
    "                                         margin-top:10px;\n",
    "                                         color:white;\n",
    "                                         border-color:rgba(255, 0, 0, 0.3)\">\n",
    "        <strong>TODO:</strong>\n",
    "        <ul>\n",
    "            <li>Propagate the $\\sigma$-matrix.</li>\n",
    "        </ul>\n",
    "    </div>\n",
    "</html>"
   ]
  },
  {
   "cell_type": "code",
   "execution_count": null,
   "metadata": {},
   "outputs": [],
   "source": [
    "sigma = getMoments(bunch.particles)\n",
    "# initial rms beam size\n",
    "sigmax = [np.sqrt(sigma[0, 0])]\n",
    "sigmay = [np.sqrt(sigma[2, 2])]\n",
    "\n",
    "for i in range(n_cells):\n",
    "    for M in cell:\n",
    "        # TODO: propagate\n",
    "        sigma = #...\n",
    "    \n",
    "        # append data\n",
    "        sigmax.append(#...\n",
    "        sigmay.append(#..."
   ]
  },
  {
   "cell_type": "markdown",
   "metadata": {},
   "source": [
    "<html>\n",
    "    <div class=\"alert alert-info\" style=\"background-color:rgba(255, 0, 0, 0.6);\n",
    "                                         margin-top:10px;\n",
    "                                         color:white;\n",
    "                                         border-color:rgba(255, 0, 0, 0.3)\">\n",
    "        <strong>TODO:</strong>\n",
    "        <ul>\n",
    "            <li>Execute the cell below. It plots the envelope in horizontal and vertical direction.</li>\n",
    "        </ul>\n",
    "    </div>\n",
    "</html>"
   ]
  },
  {
   "cell_type": "code",
   "execution_count": null,
   "metadata": {
    "scrolled": false
   },
   "outputs": [],
   "source": [
    "fig = plt.figure(dpi=300)\n",
    "fig.set_size_inches(9,9)\n",
    "axis = fig.add_subplot(111)\n",
    "axis.set_xlabel('s [m]')\n",
    "axis.set_ylabel('Envelope')\n",
    "\n",
    "axis.plot(lengths, sigmax, label=r'$\\sigma_x\\ [m]$', color='black')\n",
    "axis.plot(lengths, sigmay, label=r'$\\sigma_y\\ [m]$', color='red')\n",
    "\n",
    "axis.legend()\n",
    "\n",
    "plt.show()"
   ]
  },
  {
   "cell_type": "markdown",
   "metadata": {},
   "source": [
    "### Emittance\n",
    "The emittance is defined by\n",
    "$$\n",
    "\\varepsilon_w = \\sqrt{\\langle w^2\\rangle\\langle w'^2\\rangle - \\langle ww'\\rangle^2}\n",
    "$$\n",
    "where $w\\in\\{x, y, z\\}$. \n",
    "<html>\n",
    "    <div class=\"alert alert-info\" style=\"background-color:rgba(255, 0, 0, 0.6);\n",
    "                                         margin-top:10px;\n",
    "                                         color:white;\n",
    "                                         border-color:rgba(255, 0, 0, 0.3)\">\n",
    "        <strong>TODO:</strong>\n",
    "        <ul>\n",
    "            <li>Complete the function below that returns the emittance from $\\sigma$.</li>\n",
    "        </ul>\n",
    "    </div>\n",
    "</html>"
   ]
  },
  {
   "cell_type": "code",
   "execution_count": null,
   "metadata": {},
   "outputs": [],
   "source": [
    "def emittance(sigma):\n",
    "    x2    = #...\n",
    "    px2   = #...\n",
    "    xpx   = #...\n",
    "    emitx = #...\n",
    "    \n",
    "    y2    = #...\n",
    "    py2   = #...\n",
    "    ypy   = #...\n",
    "    emity = #...\n",
    "    \n",
    "    z2    = #...\n",
    "    pz2   = #...\n",
    "    zpz   = #...\n",
    "    emitz = #...\n",
    "    return [[emitx, emity, emitz]]"
   ]
  },
  {
   "cell_type": "markdown",
   "metadata": {},
   "source": [
    "<html>\n",
    "    <div class=\"alert alert-info\" style=\"background-color:rgba(255, 0, 0, 0.6);\n",
    "                                         margin-top:10px;\n",
    "                                         color:white;\n",
    "                                         border-color:rgba(255, 0, 0, 0.3)\">\n",
    "        <strong>TODO:</strong>\n",
    "        <ul>\n",
    "            <li>Track the $\\sigma$-matrix again and compute the emittances.</li>\n",
    "        </ul>\n",
    "    </div>\n",
    "</html>"
   ]
  },
  {
   "cell_type": "code",
   "execution_count": null,
   "metadata": {},
   "outputs": [],
   "source": [
    "# re-initialize sigma\n",
    "sigma = getMoments(bunch.particles)\n",
    "\n",
    "# initialize emittance\n",
    "emit = emittance(sigma)\n",
    "for i in range(n_cells):\n",
    "    for M in cell:\n",
    "        # propagate sigma matrix\n",
    "        sigma = #...\n",
    "    \n",
    "        # evaluate the emittances\n",
    "        e = emittance(sigma)\n",
    "    \n",
    "        # append the data\n",
    "        emit = np.append(#..."
   ]
  },
  {
   "cell_type": "markdown",
   "metadata": {},
   "source": [
    "<html>\n",
    "    <div class=\"alert alert-info\" style=\"background-color:rgba(255, 0, 0, 0.6);\n",
    "                                         margin-top:10px;\n",
    "                                         color:white;\n",
    "                                         border-color:rgba(255, 0, 0, 0.3)\">\n",
    "        <strong>TODO:</strong>\n",
    "        <ul>\n",
    "            <li>Use the following function to plot emittances.</li>\n",
    "        </ul>\n",
    "    </div>\n",
    "</html>"
   ]
  },
  {
   "cell_type": "code",
   "execution_count": null,
   "metadata": {},
   "outputs": [],
   "source": [
    "fig = plt.figure(dpi=300)\n",
    "fig.set_size_inches(9,9)\n",
    "axis = fig.add_subplot(111)\n",
    "\n",
    "colors = ['blue', 'red', 'green']\n",
    "labels = [r'$\\epsilon_{x}$', r'$\\epsilon_{y}$', r'$\\epsilon_{z}$']\n",
    "for i in range(3):\n",
    "    axis.plot(lengths, emit[:, i], colors[i], label = labels[i])\n",
    "    axis.set_xlabel('s [m]')\n",
    "    axis.grid()\n",
    "    axis.legend(loc='upper left')\n",
    "plt.show()"
   ]
  },
  {
   "cell_type": "markdown",
   "metadata": {},
   "source": [
    "## Matched distribution"
   ]
  },
  {
   "cell_type": "markdown",
   "metadata": {},
   "source": [
    "According to equation (9) of pam-s6-2, we find that the $\\sigma$ matrix of a matched distribution is just our $J_x$ and $J_y$ matrices multiplying the rms emittance (since the initial twiss parameters are calculated from the matrix $\\bar{P}$).\n",
    "$$\n",
    "\\sigma_{x(2\\times2)} = \\begin{pmatrix} \\bar{\\beta_x}\\epsilon_{rms,x} & -\\bar{\\alpha_x}\\epsilon_{rms,x} \\\\\n",
    "\\bar{-\\alpha_x}\\epsilon_{rms,x} & \\bar{\\gamma_x}\\epsilon_{rms,x}\n",
    "\\end{pmatrix} = \n",
    "\\begin{pmatrix} \\beta_{x,0}\\epsilon_{rms,x} & \\alpha_{x,0}\\epsilon_{rms,x} \\\\\n",
    "-\\alpha_{x,0}\\epsilon_{rms,x} & \\gamma_{x,0}\\epsilon_{rms,x}\n",
    "\\end{pmatrix} = J_{x,0}\\cdot \\epsilon_{rms,x}\n",
    "$$\n",
    "The $\\bar{\\alpha_x}$ etc. in the slides are expected to refer to our initial twiss parameter values $\\alpha_{x,0}$ etc. We ignore the longitudinal direction.\n",
    "<html>\n",
    "    <div class=\"alert alert-info\" style=\"background-color:rgba(255, 0, 0, 0.6);\n",
    "                                         margin-top:10px;\n",
    "                                         color:white;\n",
    "                                         border-color:rgba(255, 0, 0, 0.3)\">\n",
    "        <strong>TODO:</strong>\n",
    "        <ul>\n",
    "            <li>Construct the $\\sigma$ matrix for matched distribution.</li>\n",
    "        </ul>\n",
    "    </div>\n",
    "</html>"
   ]
  },
  {
   "cell_type": "code",
   "execution_count": null,
   "metadata": {},
   "outputs": [],
   "source": [
    "Jx = np.matrix([[bx0, -ax0],\n",
    "               [-ax0, gx0]]) # submatrix in x plane\n",
    "Jy = np.matrix([[by0, -ay0],\n",
    "               [-ay0, gy0]]) # submatrix in y plane\n",
    "emsx = emit[0, 0]\n",
    "emsy = emit[0, 1]\n",
    "\n",
    "sigma_matched = np.zeros((6,6))\n",
    "sigma_matched#..."
   ]
  },
  {
   "cell_type": "markdown",
   "metadata": {},
   "source": [
    "<html>\n",
    "    <div class=\"alert alert-info\" style=\"background-color:rgba(255, 0, 0, 0.6);\n",
    "                                         margin-top:10px;\n",
    "                                         color:white;\n",
    "                                         border-color:rgba(255, 0, 0, 0.3)\">\n",
    "        <strong>TODO:</strong>\n",
    "        <ul>\n",
    "            <li>Track and plot the $\\sigma$ matrix as above, check that $\\sigma_x$ and $\\sigma_y$ are periodic.</li>\n",
    "        </ul>\n",
    "    </div>\n",
    "</html>"
   ]
  },
  {
   "cell_type": "code",
   "execution_count": null,
   "metadata": {},
   "outputs": [],
   "source": [
    "# initial rms beam size\n",
    "sigmax_matched = [np.sqrt(sigma_matched[0, 0])]\n",
    "sigmay_matched = [np.sqrt(sigma_matched[2, 2])]\n",
    "\n",
    "for i in range(n_cells):\n",
    "    for M in cell:\n",
    "        # TODO: propagate\n",
    "        sigma_matched = #...\n",
    "        # append data\n",
    "        sigmax_matched.append(#...\n",
    "        sigmay_matched.append(#..."
   ]
  },
  {
   "cell_type": "code",
   "execution_count": null,
   "metadata": {},
   "outputs": [],
   "source": [
    "fig = plt.figure(dpi=300)\n",
    "fig.set_size_inches(9,9)\n",
    "axis = fig.add_subplot(111)\n",
    "axis.set_xlabel('s [m]')\n",
    "axis.set_ylabel('Envelope')\n",
    "\n",
    "axis.plot(lengths, sigmax_matched, label=r'$\\sigma_x\\ [m]$', color='black')\n",
    "axis.plot(lengths, sigmay_matched, label=r'$\\sigma_y\\ [m]$', color='red')\n",
    "\n",
    "axis.legend(loc='upper left')\n",
    "\n",
    "plt.show()"
   ]
  }
 ],
 "metadata": {
  "kernelspec": {
   "display_name": "pyAcceLEGOrator.venv",
   "language": "python",
   "name": "pyaccelegorator.venv"
  },
  "language_info": {
   "codemirror_mode": {
    "name": "ipython",
    "version": 3
   },
   "file_extension": ".py",
   "mimetype": "text/x-python",
   "name": "python",
   "nbconvert_exporter": "python",
   "pygments_lexer": "ipython3",
   "version": "3.8.1"
  }
 },
 "nbformat": 4,
 "nbformat_minor": 2
}
