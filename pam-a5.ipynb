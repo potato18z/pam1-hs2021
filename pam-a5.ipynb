{
 "cells": [
  {
   "cell_type": "markdown",
   "metadata": {},
   "source": [
    "# Assignment 5: Implementation of Maps\n",
    "\n",
    "<html>\n",
    "<div class=\"alert alert-info\" role=\"alert\" style=\"margin-top: 10px\">\n",
    "In this exercise you should implement the drift, dipole, quadrupole (+thin), solenoid, combined function magnet and fringe field maps and apply them to a Gaussian beam. Plot the phase spaces.\n",
    "</div>\n",
    "</html>"
   ]
  },
  {
   "cell_type": "markdown",
   "metadata": {},
   "source": [
    "<html>\n",
    "    <div class=\"alert alert-info\" style=\"background-color:rgba(255, 0, 0, 0.6);\n",
    "                                         margin-top:10px;\n",
    "                                         color:white;\n",
    "                                         border-color:rgba(255, 0, 0, 0.3)\">\n",
    "        <strong>If you use google colab, run this cell:</strong>\n",
    "    </div>\n",
    "</html>"
   ]
  },
  {
   "cell_type": "code",
   "execution_count": null,
   "metadata": {},
   "outputs": [],
   "source": [
    "# for google colab, run this cell\n",
    "!git clone https://github.com/potato18z/pam1-hs2021.git\n",
    "import sys\n",
    "sys.path.append('./pam1-hs2021')"
   ]
  },
  {
   "cell_type": "markdown",
   "metadata": {},
   "source": [
    "<html>\n",
    "    <div class=\"alert alert-info\" style=\"background-color:rgba(255, 0, 0, 0.6);\n",
    "                                         margin-top:10px;\n",
    "                                         color:white;\n",
    "                                         border-color:rgba(255, 0, 0, 0.3)\">\n",
    "<strong>If you run it locally, run</strong>\n",
    "               </div>\n",
    "</html>\n",
    "\n",
    "```bash\n",
    "$ cd .../pam1-hs2021\n",
    "...pam1-hs2021$ git pull\n",
    "```\n",
    "<html>\n",
    "    <div class=\"alert alert-info\" style=\"background-color:rgba(255, 0, 0, 0.6);\n",
    "                                         margin-top:10px;\n",
    "                                         color:white;\n",
    "                                         border-color:rgba(255, 0, 0, 0.3)\">\n",
    "to get the updated repository.</div></html>"
   ]
  },
  {
   "cell_type": "markdown",
   "metadata": {},
   "source": [
    "# Define a bunch"
   ]
  },
  {
   "cell_type": "markdown",
   "metadata": {},
   "source": [
    "In order to build maps we need some properties that are globally available. Those are the Lorentz factor $\\gamma$, the particle mass $m\\ [MeV/c^2]$ and the particle charge $q\\ [e]$.\n",
    "Those parameters are given in ```Parameter.py``` and initialized by\n",
    "```Python\n",
    "import AcceLEGOrator.Parameter as param\n",
    "\n",
    "param.gamma0 = # ...\n",
    "param.mass = # ...\n",
    "param.charge = # ...\n",
    "```\n",
    "After importing the `Physics` module you can use the function\n",
    "```\n",
    "Physics.getGamma(ekin, epot)\n",
    "```\n",
    "to obtain the Lorentz factor.\n",
    "\n",
    "We have already define a `Proton` class in ```Particle.py```:\n",
    "```Python\n",
    "class Proton(Particle):\n",
    "    \n",
    "    def __init__(self):\n",
    "        super(Proton, self).__init__(Constants.pmass,\n",
    "                                     1.0,\n",
    "                                     'Proton')\n",
    "```\n",
    "Instantiante a proton species using the `Proton` class and set all global variables from its attributes."
   ]
  },
  {
   "cell_type": "markdown",
   "metadata": {},
   "source": [
    "<html>\n",
    "    <div class=\"alert alert-info\" style=\"background-color:rgba(255, 0, 0, 0.6);\n",
    "                                         margin-top:10px;\n",
    "                                         color:white;\n",
    "                                         border-color:rgba(255, 0, 0, 0.3)\">\n",
    "        <strong>TODO:</strong>\n",
    "        <ul>\n",
    "            <li>Create a proton species.</li>\n",
    "        </ul>\n",
    "    </div>\n",
    "</html>"
   ]
  },
  {
   "cell_type": "code",
   "execution_count": null,
   "metadata": {},
   "outputs": [],
   "source": [
    "from AcceLEGOrator import Proton\n",
    "# TODO: instantiate proton object\n",
    "# you can refer to the Introduction of pyaccelerator notebook"
   ]
  },
  {
   "cell_type": "markdown",
   "metadata": {},
   "source": [
    "<html>\n",
    "    <div class=\"alert alert-info\" style=\"background-color:rgba(255, 0, 0, 0.6);\n",
    "                                         margin-top:10px;\n",
    "                                         color:white;\n",
    "                                         border-color:rgba(255, 0, 0, 0.3)\">\n",
    "        <strong>TODO:</strong>\n",
    "        <ul>\n",
    "            <li>Set global variables with given kinetic energy $E_{kin}=100 MeV$.</li>\n",
    "        </ul>\n",
    "    </div>\n",
    "</html>"
   ]
  },
  {
   "cell_type": "code",
   "execution_count": null,
   "metadata": {},
   "outputs": [],
   "source": [
    "import AcceLEGOrator.Parameter as param\n",
    "from AcceLEGOrator import Physics, Constants\n",
    "\n",
    "ekin = 100 # MeV\n",
    "\n",
    "# TODO: Define the parameters using the particle's properties\n",
    "\n",
    "param.mass    = ... # MeV / c^2\n",
    "param.charge  = ... # e\n",
    "param.gamma_0 = Physics.getGamma(...)\n",
    "print ( 'Gamma = ', param.gamma_0)"
   ]
  },
  {
   "cell_type": "markdown",
   "metadata": {},
   "source": [
    "Now you can use the `Gaussian` class to create a Gaussian bunch."
   ]
  },
  {
   "cell_type": "markdown",
   "metadata": {},
   "source": [
    "<html>\n",
    "    <div class=\"alert alert-info\" style=\"background-color:rgba(255, 0, 0, 0.6);\n",
    "                                         margin-top:10px;\n",
    "                                         color:white;\n",
    "                                         border-color:rgba(255, 0, 0, 0.3)\">\n",
    "        <strong>TODO:</strong>\n",
    "        <ul>\n",
    "            <li>Create a Gaussain bunch like in Introduction_to_pyAcceLEGOrator.ipynb.</li>\n",
    "        </ul>\n",
    "    </div>\n",
    "</html>"
   ]
  },
  {
   "cell_type": "code",
   "execution_count": null,
   "metadata": {},
   "outputs": [],
   "source": [
    "# TODO:\n",
    "# 1. create distribution\n",
    "\n",
    "# mean\n",
    "mu = [0.0, 0.0, 0.0, 0.0, 0.0, 0.0]\n",
    "\n",
    "# covariance matrix\n",
    "C = np.array([[ 16.0, 0.0,  0,  0,  0, 0],\n",
    "              [ 0.0, 1.0,  0,  0,  0, 0],\n",
    "              [ 0,  0, 16.0,  0.0,  0, 0],\n",
    "              [ 0,  0, 0.0, 1,  0, 0],\n",
    "              [ 0,  0,  0,  0, 0.709, 0.0],\n",
    "              [ 0,  0,  0,  0,  0.0, 0.0981]])\n",
    "\n",
    "# 2. create bunch"
   ]
  },
  {
   "cell_type": "markdown",
   "metadata": {},
   "source": [
    "If you need to copy a bunch without referencing to the same object, run\n",
    "```python\n",
    "from copy import deepcopy\n",
    "bunch1 = deepcopy(bunch)\n",
    "```\n",
    "Check inside `Bunch.py` for more details."
   ]
  },
  {
   "cell_type": "code",
   "execution_count": 1,
   "metadata": {},
   "outputs": [],
   "source": [
    "from copy import deepcopy"
   ]
  },
  {
   "cell_type": "markdown",
   "metadata": {},
   "source": [
    "# Maps\n",
    "All linear maps are derived classes of the base class `Map`. Implement the necessary member functions.\n",
    "```Python\n",
    "class Map(object):\n",
    "    \n",
    "    # param R its 6x6 matrix\n",
    "    # param length of element [m]\n",
    "    def __init__(self, R, length):\n",
    "        self.R = np.matrix(R)\n",
    "        self.length = length\n",
    "    \n",
    "    # Print map properties, like its type,\n",
    "    # magnetic field strength, length, etc.\n",
    "    def __str__(self):\n",
    "        return '\\n'\n",
    "    \n",
    "    # return a new instance with specific length\n",
    "    @abstractmethod\n",
    "    def get(self, length):\n",
    "        pass\n",
    "```\n",
    "You can find more detail about the usage of `super()` in [this answer](https://stackoverflow.com/a/576183).\n",
    "\n",
    "If you need any global variable for the construction of the 6x6 matrix, call them by e.g. ```param.gamma_0```.\n",
    "Apply the maps to the bunch by multiplication\n",
    "```Python\n",
    "M = Drift(1.0)\n",
    "bunch.particles =  M * bunch.particles\n",
    "```\n",
    "\n",
    "Then plot the initial and final phase space use the given function `plot_phase_space`. If you want to show them on the same plot with different color, change the function as you need."
   ]
  },
  {
   "cell_type": "code",
   "execution_count": null,
   "metadata": {},
   "outputs": [],
   "source": [
    "from matplotlib import pyplot as plt\n",
    "## Change the function as you wish if you want to plot more, add color and legends etc.\n",
    "\n",
    "# param ax is the axis to plot on\n",
    "# param xvar phase space variable in x-dir\n",
    "# param yvar phase space variable in y-dir\n",
    "# param xlab label for x-axis\n",
    "# param ylab label for y-axis\n",
    "def plot_phase_space(ax, xvar, yvar, xlab, ylab):\n",
    "    vmin = min(min(xvar), min(yvar))\n",
    "    vmin += 0.1 * vmin\n",
    "    vmax = max(max(xvar), max(yvar))\n",
    "    vmax += 0.1 * vmax\n",
    "    \n",
    "    ax.set_xlim(vmin, vmax)\n",
    "    ax.set_ylim(vmin, vmax)\n",
    "    ax.set_xlabel(xlab)\n",
    "    ax.set_ylabel(ylab)\n",
    "    ax.scatter(xvar, yvar, s=1)"
   ]
  },
  {
   "cell_type": "markdown",
   "metadata": {},
   "source": [
    "## Drift\n",
    "<html>\n",
    "    <div class=\"alert alert-info\" style=\"background-color:rgba(255, 0, 0, 0.6);\n",
    "                                         margin-top:10px;\n",
    "                                         color:white;\n",
    "                                         border-color:rgba(255, 0, 0, 0.3)\">\n",
    "        <strong>TODO:</strong>\n",
    "        <ul>\n",
    "            <li>Implement the drift map as given in the lecture slides.</li>\n",
    "        </ul>\n",
    "    </div>\n",
    "</html>"
   ]
  },
  {
   "cell_type": "code",
   "execution_count": null,
   "metadata": {},
   "outputs": [],
   "source": [
    "from AcceLEGOrator import Map\n",
    "\n",
    "class Drift(Map):\n",
    "    \n",
    "    # param length in [m]\n",
    "    def __init__(self, length):\n",
    "        \n",
    "        # TODO \n",
    "        \n",
    "        R = np.matrix(# ... )\n",
    "        \n",
    "        super(Drift, self).__init__(R, length)\n",
    "    \n",
    "    def __str__(self):\n",
    "        # TODO\n",
    "    \n",
    "    def get(self, length):\n",
    "        # TODO"
   ]
  },
  {
   "cell_type": "markdown",
   "metadata": {},
   "source": [
    "<html>\n",
    "    <div class=\"alert alert-info\" style=\"background-color:rgba(255, 0, 0, 0.6);\n",
    "                                         margin-top:10px;\n",
    "                                         color:white;\n",
    "                                         border-color:rgba(255, 0, 0, 0.3)\">\n",
    "        <strong>TODO:</strong>\n",
    "        <ul>\n",
    "            <li>Apply the map on the created bunch. Plot initial and final phase space.</li>\n",
    "        </ul>\n",
    "    </div>\n",
    "</html>"
   ]
  },
  {
   "cell_type": "code",
   "execution_count": null,
   "metadata": {
    "scrolled": false
   },
   "outputs": [],
   "source": [
    "fig = plt.figure(dpi=300)\n",
    "fig.set_size_inches(9,9)\n",
    "axis = fig.add_subplot(111)\n",
    "\n",
    "# TODO"
   ]
  },
  {
   "cell_type": "markdown",
   "metadata": {},
   "source": [
    "## Dipole\n",
    "<html>\n",
    "    <div class=\"alert alert-info\" style=\"background-color:rgba(255, 0, 0, 0.6);\n",
    "                                         margin-top:10px;\n",
    "                                         color:white;\n",
    "                                         border-color:rgba(255, 0, 0, 0.3)\">\n",
    "        <strong>TODO:</strong>\n",
    "        <ul>\n",
    "            <li>Implement the dipole map as given in the lecture slides.</li>\n",
    "        </ul>\n",
    "    </div>\n",
    "</html>"
   ]
  },
  {
   "cell_type": "code",
   "execution_count": null,
   "metadata": {},
   "outputs": [],
   "source": [
    "class Dipole(Map):\n",
    "    \n",
    "    # -----------------------------------------------------\n",
    "    # param length specified in [m]\n",
    "    # param b0 is the magnetic field strength [T]\n",
    "    # -----------------------------------------------------\n",
    "    def __init__(self, length, b0):\n",
    "        # TODO\n",
    "    \n",
    "    \n",
    "    def __str__(self):\n",
    "        # TODO\n",
    "    \n",
    "    \n",
    "    def get(self, length):\n",
    "        # TODO"
   ]
  },
  {
   "cell_type": "markdown",
   "metadata": {},
   "source": [
    "<html>\n",
    "    <div class=\"alert alert-info\" style=\"background-color:rgba(255, 0, 0, 0.6);\n",
    "                                         margin-top:10px;\n",
    "                                         color:white;\n",
    "                                         border-color:rgba(255, 0, 0, 0.3)\">\n",
    "        <strong>TODO:</strong>\n",
    "        <ul>\n",
    "            <li>Apply the map on the created bunch. Plot initial and final phase space.</li>\n",
    "        </ul>\n",
    "    </div>\n",
    "</html>"
   ]
  },
  {
   "cell_type": "code",
   "execution_count": null,
   "metadata": {
    "scrolled": false
   },
   "outputs": [],
   "source": [
    "# TODO\n",
    "Di = Dipole(length=1.0, b0 = 10.0)"
   ]
  },
  {
   "cell_type": "markdown",
   "metadata": {},
   "source": [
    "## Quadrupole\n",
    "<html>\n",
    "    <div class=\"alert alert-info\" style=\"background-color:rgba(255, 0, 0, 0.6);\n",
    "                                         margin-top:10px;\n",
    "                                         color:white;\n",
    "                                         border-color:rgba(255, 0, 0, 0.3)\">\n",
    "        <strong>TODO:</strong>\n",
    "        <ul>\n",
    "            <li>Implement the quadrupole map as given in the lecture slides.</li>\n",
    "        </ul>\n",
    "    </div>\n",
    "</html>"
   ]
  },
  {
   "cell_type": "code",
   "execution_count": null,
   "metadata": {},
   "outputs": [],
   "source": [
    "class Quadrupole(Map):\n",
    "    # -----------------------------------------------------\n",
    "    # param length specified in [m]\n",
    "    # param gradB is the magnetic field gradient in [T/m] (b2/r0)\n",
    "    # -----------------------------------------------------\n",
    "    def __init__(self, length, gradB):\n",
    "        # TODO\n",
    "    \n",
    "    \n",
    "    def __str__(self):\n",
    "        # TODO\n",
    "    \n",
    "    \n",
    "    def get(self, length):\n",
    "        # TODO"
   ]
  },
  {
   "cell_type": "markdown",
   "metadata": {},
   "source": [
    "<html>\n",
    "    <div class=\"alert alert-info\" style=\"background-color:rgba(255, 0, 0, 0.6);\n",
    "                                         margin-top:10px;\n",
    "                                         color:white;\n",
    "                                         border-color:rgba(255, 0, 0, 0.3)\">\n",
    "        <strong>TODO:</strong>\n",
    "        <ul>\n",
    "            <li>Apply the map on the created bunch. Plot initial and final phase space.</li>\n",
    "        </ul>\n",
    "    </div>\n",
    "</html>"
   ]
  },
  {
   "cell_type": "code",
   "execution_count": null,
   "metadata": {
    "scrolled": false
   },
   "outputs": [],
   "source": [
    "# TODO\n",
    "Q = Quadrupole(length=1.0, gradB = 0.5)"
   ]
  },
  {
   "cell_type": "markdown",
   "metadata": {},
   "source": [
    "## Thin Quadrupole\n",
    "<html>\n",
    "    <div class=\"alert alert-info\" style=\"background-color:rgba(255, 0, 0, 0.6);\n",
    "                                         margin-top:10px;\n",
    "                                         color:white;\n",
    "                                         border-color:rgba(255, 0, 0, 0.3)\">\n",
    "        <strong>TODO:</strong>\n",
    "        <ul>\n",
    "            <li>Implement the thin lens approximation of the quadrupole as given in the lecture slides.</li>\n",
    "        </ul>\n",
    "    </div>\n",
    "</html>"
   ]
  },
  {
   "cell_type": "code",
   "execution_count": null,
   "metadata": {},
   "outputs": [],
   "source": [
    "class ThinQuadrupole(Map):\n",
    "    \n",
    "    # param f is the focal length\n",
    "    def __init__(self, f):\n",
    "        # TODO\n",
    "    \n",
    "    def __str__(self):\n",
    "        # TODO\n",
    "    \n",
    "    def get(self, length):\n",
    "        # TODO"
   ]
  },
  {
   "cell_type": "markdown",
   "metadata": {},
   "source": [
    "Apply the map on the created bunch. Plot initial and final phase space."
   ]
  },
  {
   "cell_type": "code",
   "execution_count": null,
   "metadata": {
    "scrolled": false
   },
   "outputs": [],
   "source": [
    "# TODO\n",
    "TQ = ThinQuadrupole(f = 1.5)"
   ]
  },
  {
   "cell_type": "markdown",
   "metadata": {},
   "source": [
    "# Solenoid\n",
    "<html>\n",
    "    <div class=\"alert alert-info\" style=\"background-color:rgba(255, 0, 0, 0.6);\n",
    "                                         margin-top:10px;\n",
    "                                         color:white;\n",
    "                                         border-color:rgba(255, 0, 0, 0.3)\">\n",
    "        <strong>TODO:</strong>\n",
    "        <ul>\n",
    "            <li>Implement the solenoid map as given in the lecture slides.</li>\n",
    "        </ul>\n",
    "    </div>\n",
    "</html>"
   ]
  },
  {
   "cell_type": "code",
   "execution_count": null,
   "metadata": {},
   "outputs": [],
   "source": [
    "class Solenoid(Map):\n",
    "    # -----------------------------------------------------\n",
    "    # param length specified in [m]\n",
    "    # param b0 is the magnetic field strength [T]\n",
    "    # -----------------------------------------------------\n",
    "    def __init__(self, length, b0):\n",
    "        # TODO\n",
    "    \n",
    "    \n",
    "    def __str__(self):\n",
    "        # TODO\n",
    "    \n",
    "    \n",
    "    def get(self, length):\n",
    "        # TODO"
   ]
  },
  {
   "cell_type": "markdown",
   "metadata": {},
   "source": [
    "<html>\n",
    "    <div class=\"alert alert-info\" style=\"background-color:rgba(255, 0, 0, 0.6);\n",
    "                                         margin-top:10px;\n",
    "                                         color:white;\n",
    "                                         border-color:rgba(255, 0, 0, 0.3)\">\n",
    "        <strong>TODO:</strong>\n",
    "        <ul>\n",
    "            <li>Apply the map on the created bunch. Plot initial and final phase space.</li>\n",
    "        </ul>\n",
    "    </div>\n",
    "</html>"
   ]
  },
  {
   "cell_type": "code",
   "execution_count": null,
   "metadata": {},
   "outputs": [],
   "source": [
    "# TODO\n",
    "S = Solenoid(length=1.0, b0 = 10.0)"
   ]
  },
  {
   "cell_type": "markdown",
   "metadata": {},
   "source": [
    "# Combined function magnet\n",
    "<html>\n",
    "    <div class=\"alert alert-info\" style=\"background-color:rgba(255, 0, 0, 0.6);\n",
    "                                         margin-top:10px;\n",
    "                                         color:white;\n",
    "                                         border-color:rgba(255, 0, 0, 0.3)\">\n",
    "        <strong>TODO:</strong>\n",
    "        <ul>\n",
    "            <li>Implement the combined function magnet map as given in the lecture slides.</li>\n",
    "        </ul>\n",
    "    </div>\n",
    "</html>"
   ]
  },
  {
   "cell_type": "code",
   "execution_count": null,
   "metadata": {},
   "outputs": [],
   "source": [
    "class Combined(Map):\n",
    "    # -----------------------------------------------------\n",
    "    # param length specified in [m]\n",
    "    # param b0 is the magnetic field in [T]\n",
    "    # param gradB is the magnetic field gradient in [T/m]\n",
    "    # -----------------------------------------------------\n",
    "    def __init__(self, length, b0, gradB):\n",
    "        # TODO\n",
    "    \n",
    "    \n",
    "    def __str__(self):\n",
    "        # TODO\n",
    "    \n",
    "    \n",
    "    def get(self, length):\n",
    "        # TODO"
   ]
  },
  {
   "cell_type": "markdown",
   "metadata": {},
   "source": [
    "<html>\n",
    "    <div class=\"alert alert-info\" style=\"background-color:rgba(255, 0, 0, 0.6);\n",
    "                                         margin-top:10px;\n",
    "                                         color:white;\n",
    "                                         border-color:rgba(255, 0, 0, 0.3)\">\n",
    "        <strong>TODO:</strong>\n",
    "        <ul>\n",
    "            <li>Apply the map on the created bunch. Plot initial and final phase space.</li>\n",
    "        </ul>\n",
    "    </div>\n",
    "</html>"
   ]
  },
  {
   "cell_type": "code",
   "execution_count": null,
   "metadata": {},
   "outputs": [],
   "source": [
    "# TODO\n",
    "C = Combined(length=1.0, b0 = 10.0, gradB = 0.5)"
   ]
  },
  {
   "cell_type": "markdown",
   "metadata": {},
   "source": [
    "# Fringe Field\n",
    "<html>\n",
    "    <div class=\"alert alert-info\" style=\"background-color:rgba(255, 0, 0, 0.6);\n",
    "                                         margin-top:10px;\n",
    "                                         color:white;\n",
    "                                         border-color:rgba(255, 0, 0, 0.3)\">\n",
    "        <strong>TODO:</strong>\n",
    "        <ul>\n",
    "            <li>Implement the fringe field map as given in the lecture slides.</li>\n",
    "        </ul>\n",
    "    </div>\n",
    "</html>"
   ]
  },
  {
   "cell_type": "code",
   "execution_count": null,
   "metadata": {},
   "outputs": [],
   "source": [
    "class Fringe(Map):\n",
    "    \n",
    "    # -----------------------------------------------------\n",
    "    # param b0 is the magnetic field strength [T]\n",
    "    # param angle [deg]\n",
    "    # -----------------------------------------------------\n",
    "    def __init__(self, b0, angle):\n",
    "        # TODO\n",
    "    \n",
    "    \n",
    "    def __str__(self):\n",
    "        # TODO\n",
    "    \n",
    "    \n",
    "    def get(self, length):\n",
    "        # TODO"
   ]
  },
  {
   "cell_type": "markdown",
   "metadata": {},
   "source": [
    "<html>\n",
    "    <div class=\"alert alert-info\" style=\"background-color:rgba(255, 0, 0, 0.6);\n",
    "                                         margin-top:10px;\n",
    "                                         color:white;\n",
    "                                         border-color:rgba(255, 0, 0, 0.3)\">\n",
    "        <strong>TODO:</strong>\n",
    "        <ul>\n",
    "            <li>Apply a dipole with fringe field on the created bunch. Plot initial and final phase space.</li>\n",
    "        </ul>\n",
    "    </div>\n",
    "</html>"
   ]
  },
  {
   "cell_type": "code",
   "execution_count": null,
   "metadata": {},
   "outputs": [],
   "source": [
    "# TODO\n",
    "# apply the dipole\n",
    "D = Dipole(length=1.0, b0 = 10)\n",
    "# apply the fringe field\n",
    "F = Fringe(b0 = 10, angle = 20)"
   ]
  }
 ],
 "metadata": {
  "kernelspec": {
   "display_name": "pyAcceLEGOrator.venv",
   "language": "python",
   "name": "pyaccelegorator.venv"
  },
  "language_info": {
   "codemirror_mode": {
    "name": "ipython",
    "version": 3
   },
   "file_extension": ".py",
   "mimetype": "text/x-python",
   "name": "python",
   "nbconvert_exporter": "python",
   "pygments_lexer": "ipython3",
   "version": "3.8.1"
  }
 },
 "nbformat": 4,
 "nbformat_minor": 2
}
