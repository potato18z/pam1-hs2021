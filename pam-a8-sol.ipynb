{
 "cells": [
  {
   "cell_type": "markdown",
   "metadata": {},
   "source": [
    "# Assignment 8: Space charge map implementation -- Solution\n",
    "\n",
    "<html>\n",
    "    <div class=\"alert alert-info\" role=\"alert\" style=\"margin-top: 10px\">\n",
    "        <ul>\n",
    "            <li>Implement the space charge map in drift and quadrupole.</li>\n",
    "            <li>Track the beam through a FODO cell with & without space charge considered.</li>\n",
    "            <li>Compare the beam envelope.</li>\n",
    "            <li>Check the stability criterion.</li>\n",
    "            </ul>\n",
    "    </div>\n",
    "</html>"
   ]
  },
  {
   "cell_type": "markdown",
   "metadata": {},
   "source": [
    "<html>\n",
    "    <div class=\"alert alert-info\" style=\"background-color:rgba(255, 0, 0, 0.6);\n",
    "                                         margin-top:10px;\n",
    "                                         color:white;\n",
    "                                         border-color:rgba(255, 0, 0, 0.3)\">\n",
    "        <strong>If you use google colab, run this cell:</strong>\n",
    "    </div>\n",
    "</html>"
   ]
  },
  {
   "cell_type": "code",
   "execution_count": null,
   "metadata": {},
   "outputs": [],
   "source": [
    "# for google colab, run this cell\n",
    "!git clone https://github.com/potato18z/pam1-hs2021.git\n",
    "import sys\n",
    "sys.path.append('./pam1-hs2021')"
   ]
  },
  {
   "cell_type": "markdown",
   "metadata": {},
   "source": [
    "<html>\n",
    "    <div class=\"alert alert-info\" style=\"background-color:rgba(255, 0, 0, 0.6);\n",
    "                                         margin-top:10px;\n",
    "                                         color:white;\n",
    "                                         border-color:rgba(255, 0, 0, 0.3)\">\n",
    "<strong>If you run it locally, run</strong>\n",
    "               </div>\n",
    "</html>\n",
    "\n",
    "```bash\n",
    "$ cd .../pam1-hs2021\n",
    "...pam1-hs2021$ git pull\n",
    "```\n",
    "<html>\n",
    "    <div class=\"alert alert-info\" style=\"background-color:rgba(255, 0, 0, 0.6);\n",
    "                                         margin-top:10px;\n",
    "                                         color:white;\n",
    "                                         border-color:rgba(255, 0, 0, 0.3)\">\n",
    "to get the updated repository.</div></html>"
   ]
  },
  {
   "cell_type": "markdown",
   "metadata": {},
   "source": [
    "## Initialization\n",
    "<html>\n",
    "    <div class=\"alert alert-info\" role=\"alert\" style=\"margin-top: 10px\">\n",
    "        <ul>\n",
    "            <li> Simply run this cell to instantiante an `Electron` species and set all global variables in the `Parameter` module. Take 3 MeV as the kinetic energy. </li>\n",
    "        </ul>\n",
    "    </div>\n",
    "</html>"
   ]
  },
  {
   "cell_type": "code",
   "execution_count": 1,
   "metadata": {},
   "outputs": [
    {
     "name": "stdout",
     "output_type": "stream",
     "text": [
      "gamma = 1.0031973667743683\n",
      "beta  = 0.07977590058404604\n",
      "p0    = 75.09082852758958 MeV/c\n",
      "Br    = 0.25047604275485 Tm\n"
     ]
    }
   ],
   "source": [
    "import numpy as np\n",
    "import AcceLEGOrator.Parameter as param\n",
    "from AcceLEGOrator import Proton, Constants, Physics\n",
    "from AcceLEGOrator import Gaussian, Bunch\n",
    "import matplotlib.pyplot as plt\n",
    "import copy\n",
    "\n",
    "c = Constants.clight\n",
    "\n",
    "Ekin = 3 # MeV\n",
    "\n",
    "proton = Proton()\n",
    "\n",
    "# set global variables\n",
    "param.gamma_0 = Physics.getGamma(Ekin, proton.mass)\n",
    "param.mass = proton.mass # MeV / c^2\n",
    "param.charge = proton.charge # e\n",
    "\n",
    "beta0 = Physics.getBeta(param.gamma_0)\n",
    "p0 = param.gamma_0 * beta0 * param.mass   # MeV / c\n",
    "Brho = p0 / param.charge * 1e6 / c # T*m\n",
    "\n",
    "print('gamma =', param.gamma_0)\n",
    "print('beta  =', beta0)\n",
    "print('p0    =', p0 , 'MeV/c')\n",
    "print('Br    =', Brho, 'Tm')"
   ]
  },
  {
   "cell_type": "markdown",
   "metadata": {},
   "source": [
    "<html>\n",
    "    <div class=\"alert alert-info\" role=\"alert\" style=\"margin-top: 10px\">\n",
    "        <ul>\n",
    "            <li> Simply run this cell to define the test FODO cell.</li>\n",
    "        </ul>\n",
    "    </div>\n",
    "</html>\n",
    "\n",
    "![fodo_for_sc](img/fodo_for_sc.png)"
   ]
  },
  {
   "cell_type": "code",
   "execution_count": 2,
   "metadata": {},
   "outputs": [
    {
     "name": "stdout",
     "output_type": "stream",
     "text": [
      "focusing Quadrupole: Quadrupole(L = 0.05 [m], grad B = 100.19041710194001 [T/m])\n",
      "\n",
      "defocusing Quadrupole: Quadrupole(L = 0.05 [m], grad B = -100.19041710194001 [T/m])\n",
      "\n",
      "half drift: Drift(L = 0.025 [m])\n",
      "\n",
      "drift: Drift(L = 0.05 [m])\n",
      "\n"
     ]
    }
   ],
   "source": [
    "from AcceLEGOrator import Drift, Quadrupole\n",
    "# quadrupole length [m]\n",
    "Lq = 0.05\n",
    "\n",
    "# quandrupole strength [1/m^2]\n",
    "kq = 400.0\n",
    "\n",
    "# magnetic field gradient [T/m]\n",
    "gradBf = kq * Brho\n",
    "\n",
    "# half focusing quadrupole\n",
    "Qf = Quadrupole(Lq, gradBf)\n",
    "\n",
    "print('focusing Quadrupole:', Qf)\n",
    "\n",
    "# magnetic field gradient [T/m]\n",
    "gradBd = -kq * Brho\n",
    "\n",
    "# defocusing quadrupole\n",
    "Qd = Quadrupole(Lq, gradBd)\n",
    "\n",
    "print('defocusing Quadrupole:', Qd)\n",
    "\n",
    "# drift length [m]\n",
    "Ldr = 0.05\n",
    "\n",
    "# drift\n",
    "Dr_h = Drift(Ldr/2.) # half drift\n",
    "Dr = Drift(Ldr)\n",
    "\n",
    "print('half drift:', Dr_h)\n",
    "print('drift:', Dr)\n",
    "\n",
    "# define FODO cell\n",
    "fodo = [Dr_h, Qf, Dr, Qd, Dr_h]\n",
    "\n",
    "# collect fodo parameters together\n",
    "fodo_params = {'Lq':Lq, \n",
    "               'gradBf': gradBf,\n",
    "               'gradBd': gradBd,\n",
    "               'Ldr': Ldr}"
   ]
  },
  {
   "cell_type": "markdown",
   "metadata": {},
   "source": [
    "<html>\n",
    "    <div class=\"alert alert-info\" style=\"background-color:rgba(255, 0, 0, 0.6);\n",
    "                                         margin-top:10px;\n",
    "                                         color:white;\n",
    "                                         border-color:rgba(255, 0, 0, 0.3)\">\n",
    "        <strong>TODO:</strong>\n",
    "        <ul>\n",
    "            <li>Use the `getMatchedSigma` function in `Tracking.py` to calculate the the sigma matrix that is matched to the fodo cell. </li>\n",
    "            <li>We assume an normalised rms emittance of $\\epsilon_{rms,x}=\\epsilon_{rms,y}=0.3 [mm\\cdot mrad] = 0.3 \\cdot 10^{-6}[m\\cdot rad]$. To get the geometric rms emittance, we need to divide it by $\\beta\\gamma$.</li>\n",
    "            <li>Define a Gaussian beam of $N=10^7$ protons using the matched sigma.</li>\n",
    "        </ul>\n",
    "    </div>\n",
    "</html>"
   ]
  },
  {
   "cell_type": "code",
   "execution_count": 3,
   "metadata": {},
   "outputs": [],
   "source": [
    "from AcceLEGOrator import Tracking\n",
    "\n",
    "emit = 0.3/(beta0*param.gamma_0)*1e-6 # m*rad\n",
    "sigma_matched = Tracking.getMatchedSigma(cell=fodo, ex=emit, ey=emit)"
   ]
  },
  {
   "cell_type": "markdown",
   "metadata": {},
   "source": [
    "<html>\n",
    "    <div class=\"alert alert-info\" style=\"background-color:rgba(255, 0, 0, 0.6);\n",
    "                                         margin-top:10px;\n",
    "                                         color:white;\n",
    "                                         border-color:rgba(255, 0, 0, 0.3)\">\n",
    "        <strong>TODO:</strong>\n",
    "           <ul>\n",
    "            <li>Use the `trackSigma` function in `Tracking.py` to track the sigma matrix for $n_{cells}=4$. </li>\n",
    "            <li>Plot the rms beam sizes in x and y. The parameter `n_slice` cuts each element (except drift) into shorter slices to get a smoother output. Change $n_{slice}$ from 1 and see the difference. The result should be quite ok for $n_{slice}> 5$.</li>\n",
    "            <li>Check if you can reproduce the plot on Page 22 of `pam-s8.pdf`.</li>\n",
    "        </ul>\n",
    "    </div>\n",
    "</html>\n",
    "\n",
    "You can check the `_sliceMap()` function in `Tracking.py` to see how `get()` function works."
   ]
  },
  {
   "cell_type": "code",
   "execution_count": 4,
   "metadata": {},
   "outputs": [
    {
     "data": {
      "image/png": "[encoded data removed]",
      "text/plain": [
       "<Figure size 432x432 with 1 Axes>"
      ]
     },
     "metadata": {
      "needs_background": "light"
     },
     "output_type": "display_data"
    }
   ],
   "source": [
    "all_sigmas_matched, lengths = Tracking.trackSigma(sigma_matched, cell=fodo, n_cells=4, n_slice=10)\n",
    "\n",
    "# plot\n",
    "fig = plt.figure()\n",
    "fig.set_size_inches(6,6)\n",
    "axis = fig.add_subplot(111)\n",
    "axis.set_xlabel('s [m]')\n",
    "axis.set_ylabel('RMS beam size [mm]')\n",
    "\n",
    "axis.plot(lengths, np.sqrt(all_sigmas_matched[:,0,0])*1e3, label=r'$\\langle x\\rangle [mm]$', color='black')\n",
    "# note that the original unit is [m] and here we want [mm]\n",
    "axis.plot(lengths, np.sqrt(all_sigmas_matched[:,2,2])*1e3, label=r'$\\langle y\\rangle [mm]$', color='red')\n",
    "\n",
    "axis.legend(loc='upper left')\n",
    "plt.title('Mathched beam envelope without space charge')\n",
    "plt.show()"
   ]
  },
  {
   "cell_type": "markdown",
   "metadata": {},
   "source": [
    "## Space charge map - general solution for various elements\n",
    "From equation (23) of `pam-s7` we can derive that for a drift\n",
    "$$\n",
    "x'' - \\frac{K}{r_0^2}x = 0,\\quad\\quad y''- \\frac{K}{r_0^2}y = 0.\n",
    "$$\n",
    "where $(\\cdot)' = \\frac{d(\\cdot)}{ds}$, perveance $K = \\frac{qI}{2\\pi\\varepsilon_0 m_0 c^3\\beta^3\\gamma^3}$ and $r_0$ is the radius of a uniformly distributed circular beam.\n",
    "\n",
    "From equation (24) of `pam-s7` we know that for a quadrupole focusing in $x$ direction\n",
    "$$\n",
    "\\begin{align}\n",
    "x'' + k_1x - \\frac{K}{r_0^2}x &= 0,\\\\\n",
    "y'' - k_1y - \\frac{K}{r_0^2}y &= 0.\n",
    "\\end{align}\n",
    "$$\n",
    "where $k_1 = \\frac{q}{P_0}\\cdot gradB$ is the normalised quadrupole gradient.\n",
    "\n",
    "We can write the above equations into a generalised form\n",
    "$$\n",
    "u''(s) + C\\cdot u(s) = 0\n",
    "$$\n",
    "where $u=x$ or $y$, and C takes different values according to different elements.\n",
    "\n",
    "\n",
    "<html>\n",
    "    <div class=\"alert alert-info\" style=\"background-color:rgba(255, 0, 0, 0.6);\n",
    "                                         margin-top:10px;\n",
    "                                         color:white;\n",
    "                                         border-color:rgba(255, 0, 0, 0.3)\">\n",
    "        <strong>TODO:</strong>\n",
    "        <ul>\n",
    "            <li> Check that we can write a general solution to the above ODE.</li>\n",
    "$$\n",
    "u(s) = c_1\\cdot\\cos\\left(\\sqrt{C}s\\right) + c_2\\cdot\\sin\\left(-\\sqrt{C}s\\right)\n",
    "$$\n",
    "where $C$ could be negative and $\\sqrt{C}$ could be complex.\n",
    "        </ul>\n",
    "    </div>\n",
    "</html>"
   ]
  },
  {
   "cell_type": "markdown",
   "metadata": {},
   "source": [
    "It's easy to check that this general solution is correct.\n",
    "$$\n",
    "\\begin{align}\n",
    "u'(s) &= -\\sqrt{C}\\cdot c_1\\cdot\\sin\\left(\\sqrt{C}s\\right) - \\sqrt{C} \\cdot c_2\\cdot\\cos\\left(\\sqrt{C}s\\right) \\\\\n",
    "u''(s) &= -C\\cdot c_1\\cdot\\cos\\left(\\sqrt{C}s\\right) + C\\cdot c_2\\cdot\\sin\\left(\\sqrt{C}s\\right) \\\\ \n",
    "&= -C\\cdot c_1\\cdot\\cos\\left(\\sqrt{C}s\\right) - C\\cdot c_2\\cdot\\sin\\left(-\\sqrt{C}s\\right) \\\\ \n",
    "&= -C\\cdot u(s)\n",
    "\\end{align}\n",
    "$$"
   ]
  },
  {
   "cell_type": "markdown",
   "metadata": {},
   "source": [
    "<html>\n",
    "    <div class=\"alert alert-info\" style=\"background-color:rgba(255, 0, 0, 0.6);\n",
    "                                         margin-top:10px;\n",
    "                                         color:white;\n",
    "                                         border-color:rgba(255, 0, 0, 0.3)\">\n",
    "        <strong>TODO:</strong>\n",
    "        <ul>\n",
    "            <li>Derive the linear map of space charge for an element of length $L$.\n",
    "            <li>in horizontal directions (i.e. a $4\\times 4$ map). In longitudinal direction we neglect the space charge force.</li>\n",
    "        </ul>\n",
    "    </div>\n",
    "</html>"
   ]
  },
  {
   "cell_type": "markdown",
   "metadata": {},
   "source": [
    "From above we get the momentum equation\n",
    "\n",
    "$$\n",
    "u'(s) = -\\sqrt{C}\\cdot c_1\\cdot\\sin\\left(\\sqrt{C}s\\right) - \\sqrt{C} \\cdot c_2\\cdot\\cos\\left(\\sqrt{C}s\\right)\n",
    "$$\n",
    "\n",
    "Therefore using initial state at $s = 0$ and final state at $s = L$, we obtain\n",
    "$$\n",
    "\\begin{align}\n",
    "u(0) &= c_1, \\\\\n",
    "u(L) &= c_1\\cdot\\cos\\left(\\sqrt{C}L\\right) + c_2\\cdot\\sin\\left(-\\sqrt{C}L\\right), \\\\\n",
    "u'(0) &= -\\sqrt{C}\\cdot c_2, \\\\\n",
    "u'(L) &= -\\sqrt{C}\\cdot c_1\\cdot\\sin\\left(\\sqrt{C}L\\right) - \\sqrt{C} \\cdot c_2\\cdot\\cos\\left(\\sqrt{C}L\\right).\n",
    "\\end{align}\n",
    "$$\n",
    "\n",
    "This simplifies to\n",
    "$$\n",
    "\\begin{align}\n",
    "u(L) &= u(0)\\cdot\\cos\\left(\\sqrt{C}L\\right) - \\frac{u'(0)}{\\sqrt{C}}\\cdot\\sin\\left(-\\sqrt{C}L\\right)=u(0)\\cdot\\cos\\left(\\sqrt{C}L\\right) + \\frac{u'(0)}{\\sqrt{C}}\\cdot\\sin\\left(\\sqrt{C}L\\right), \\\\\n",
    "u'(L) &= -\\sqrt{C}\\cdot u(0)\\cdot\\sin\\left(\\sqrt{C}L\\right) +u'(0)\\cdot\\cos\\left(\\sqrt{C}L\\right).\n",
    "\\end{align}\n",
    "$$\n",
    "\n",
    "In matrix notation\n",
    "$$\n",
    "\\begin{pmatrix}u \\\\ u'\\end{pmatrix}^L =\n",
    "\\begin{pmatrix}\\cos\\left(\\sqrt{C}L\\right) & \\frac{\\sin\\left(\\sqrt{C}L\\right)}{\\sqrt{C}} \\\\\n",
    "-\\sqrt{C}\\sin\\left(\\sqrt{C}L\\right) & \\cos\\left(\\sqrt{C}L\\right) \\end{pmatrix}\\cdot\n",
    "\\begin{pmatrix}u \\\\ u'\\end{pmatrix}^0.\n",
    "$$\n",
    "This has the same format as quadrupole map."
   ]
  },
  {
   "cell_type": "markdown",
   "metadata": {},
   "source": [
    "<html>\n",
    "    <div class=\"alert alert-info\" style=\"background-color:rgba(255, 0, 0, 0.6);\n",
    "                                         margin-top:10px;\n",
    "                                         color:white;\n",
    "                                         border-color:rgba(255, 0, 0, 0.3)\">\n",
    "        <strong>TODO:</strong>\n",
    "        <ul>\n",
    "            <li>Define the space charge map for drift and quadrupole using the previous result in the horizontal directions. In longitudinal direction we neglect the space charge force.</li>\n",
    "        </ul>\n",
    "    </div>\n",
    "</html>"
   ]
  },
  {
   "cell_type": "markdown",
   "metadata": {},
   "source": [
    "#### Notes\n",
    "- You can get inspiration from the original definition of Drift and Quadrupole maps in `Map.py`.\n",
    "- When calculating $I_0$, keep in mind that our proton.mass already has the unit of $MeV/c^2$.\n",
    "- `np.lib.scimath.sqrt` is used here instead of the usual `np.sqrt` to handle complex cases. Pay close attention to the sign of $C$.\n",
    "- In the case of a uniformly distributed circular beam of radius $r_0$, there is the beam area $\\pi r_0^2$ inside the denominator of the space charge term. Since our beam is\n",
    "    - Gaussian,\n",
    "    - although it starts from a 'circle' in $x$ and $y$, it grows to become ellipses during the evolution\n",
    "  \n",
    "  We need to find a proper way to estimate the action area of space charge. Since the area of ellipse is $\\pi ab$,  we simply use here $\\sqrt{\\langle x^2\\rangle}$ and $\\sqrt{\\langle y^2\\rangle}$ to approximate $a$ and $b$, i.e. $r_0^2 \\sim \\sqrt{\\langle x^2\\rangle\\cdot \\langle y^2\\rangle}$."
   ]
  },
  {
   "cell_type": "code",
   "execution_count": 5,
   "metadata": {},
   "outputs": [],
   "source": [
    "from AcceLEGOrator import Map, Physics, Constants\n",
    "import numpy as np\n",
    "import scipy.constants as sc\n",
    "\n",
    "class SpaceChargeDrift(Map):\n",
    "    \n",
    "    # param length: element length [m]\n",
    "    # param sigma: the sigma matrix of the bunch being tracked\n",
    "    # param I_sc: beam current for evaluating space charge [A]\n",
    "    def __init__(self, length, sigma, I_sc):\n",
    "        self.length = length\n",
    "        self.__sigma = sigma\n",
    "        beta_0 = Physics.getBeta(param.gamma_0)\n",
    "       \n",
    "        eps0 = Constants.epsilon0\n",
    "        c    = Constants.clight\n",
    "        e    = Constants.echarge\n",
    "        q    = param.charge * e # [C]\n",
    "        \n",
    "        self.I = I_sc\n",
    "        self.I0 = 4 * np.pi * eps0 * param.mass * c / param.charge * 1e6 # unit [A], page 14 pam-s7\n",
    "        self.K = self.I / self.I0 * 2.0 / (beta_0 * param.gamma_0) ** 3 # equation (22), pam-s7\n",
    "        \n",
    "        r02 = np.sqrt(sigma[0,0]*sigma[2,2]) # use the product of rms beam sizes to estimate beam area\n",
    "        \n",
    "        C = - self.K/r02\n",
    "\n",
    "        w = np.lib.scimath.sqrt(C)\n",
    "            \n",
    "        cs  = np.cos(w * length)\n",
    "        s   = np.sin(w * length)\n",
    "        f   = length / (beta_0 * param.gamma_0 ) ** 2\n",
    "        \n",
    "        R = np.real_if_close(np.matrix(\n",
    "            [[cs,      s/w,    0,      0,      0,  0],\n",
    "            [-w*s,     cs,     0,      0,      0,  0],\n",
    "            [0,        0,      cs,     s/w,    0,  0],\n",
    "            [0,        0,      -w*s,   cs,     0,  0],\n",
    "            [0,        0,      0,      0,      1,  f],\n",
    "            [0,        0,      0,      0,      0,  1]], dtype = 'complex_'))\n",
    "        super(SpaceChargeDrift, self).__init__(R, length)\n",
    "    \n",
    "    \n",
    "    def __str__(self):\n",
    "        return 'SpaceChargeDrift(I = ' + str(self.I) + ' [A],\\n'\\\n",
    "               + '\\t\\t      I_0 = ' + str(self.I0) + '[A])\\n'\\\n",
    "               + '\\t\\t      K = ' + str(self.K) + ')\\n'\\\n",
    "               + '\\t\\t      length = ' + str(self.length) + '[m]'\n",
    "    \n",
    "    def get(self, length, sigma=None):\n",
    "        # return another SpaceChargeDrift with different sigma and/or length\n",
    "        if sigma is None:\n",
    "            return SpaceChargeDrift(length, self.__sigma, self.I)\n",
    "        else:\n",
    "            return SpaceChargeDrift(length, sigma, self.I)"
   ]
  },
  {
   "cell_type": "code",
   "execution_count": 6,
   "metadata": {},
   "outputs": [],
   "source": [
    "class SpaceChargeQuadrupole(Map):\n",
    "    \n",
    "    # param length in [m]\n",
    "    # param gradB in [T/m]\n",
    "    # param sigma: the sigma matrix of the bunch being tracked\n",
    "    # param I_sc: beam current for evaluating space charge [A]\n",
    "    def __init__(self, length, gradB, sigma, I_sc):\n",
    "        self.length = length\n",
    "        self.__gradB = gradB\n",
    "        self.__sigma = sigma\n",
    "        beta_0 = Physics.getBeta(param.gamma_0)\n",
    "        \n",
    "        eps0 = Constants.epsilon0\n",
    "        c    = Constants.clight\n",
    "        e    = Constants.echarge\n",
    "        q    = param.charge * e # [C]\n",
    "        \n",
    "        P_0 = param.mass * 1e6 / c * param.gamma_0 * beta_0\n",
    "        k_1 = param.charge / P_0 * self.__gradB\n",
    "        \n",
    "        self.I = I_sc\n",
    "        self.I0 = 4 * np.pi * eps0 * param.mass * c / param.charge * 1e6 #[A]\n",
    "        self.K = self.I / self.I0 * 2.0 / (beta_0 * param.gamma_0) ** 3\n",
    "\n",
    "        r02 = np.sqrt(sigma[0,0]*sigma[2,2])\n",
    "        \n",
    "        C_x = k_1 - self.K/r02\n",
    "        C_y = -k_1 - self.K/r02\n",
    "        \n",
    "        w_x = np.lib.scimath.sqrt(C_x)\n",
    "        w_y = np.lib.scimath.sqrt(C_y)\n",
    "            \n",
    "        cs_x  = np.cos(w_x * length)\n",
    "        s_x   = np.sin(w_x * length)\n",
    "        cs_y = np.cos(w_y* length)\n",
    "        s_y  = np.sin(w_y * length)\n",
    "        \n",
    "        f   = length / (beta_0 * param.gamma_0 ) ** 2\n",
    "        \n",
    "        R = np.real_if_close(np.matrix(\n",
    "            [[cs_x,    s_x/w_x,    0,      0,      0,  0],\n",
    "            [-w_x*s_x,      cs_x,    0,      0,      0,  0],\n",
    "            [0,        0,      cs_y,    s_y/w_y,    0,  0],\n",
    "            [0,        0,      -w_y*s_y,    cs_y,    0,  0],\n",
    "            [0,        0,      0,      0,      1,  f],\n",
    "            [0,        0,      0,      0,      0,  1]], dtype = 'complex_'))\n",
    "        \n",
    "        super(SpaceChargeQuadrupole, self).__init__(R, length)\n",
    "    \n",
    "    \n",
    "    def __str__(self):\n",
    "        return 'SpaceChargeQuadrupole(I = ' + str(self.I) + ' [A],\\n'\\\n",
    "               + '\\t\\t      I_0 = ' + str(self.I_0) + '[A])\\n'\\\n",
    "               + '\\t\\t      K = ' + str(self.K) + ')\\n'\\\n",
    "               + '\\t\\t      gradB = ' + str(self.__gradB) + '[T/m]\\n'\\\n",
    "               + '\\t\\t      length = ' + str(self.length) + '[m]'\n",
    "\n",
    "    def get(self, length, sigma=None):\n",
    "        # return another SpaceChargeQuadrupole with different sigma and/or length\n",
    "        if sigma is None:\n",
    "            return SpaceChargeQuadrupole(length, self.__gradB, self.__sigma, self.I)\n",
    "        else:\n",
    "            return SpaceChargeQuadrupole(length, self.__gradB, sigma, self.I)"
   ]
  },
  {
   "cell_type": "markdown",
   "metadata": {},
   "source": [
    "## Tracking through space charge incorporated FODO cells\n",
    "<html>\n",
    "    <div class=\"alert alert-info\" role=\"alert\" style=\"margin-top: 10px\">\n",
    "        <ul>\n",
    "            <li> Simply run this cell to define space charge incorporated FODO cell.</li>\n",
    "        </ul>\n",
    "    </div>\n",
    "</html>"
   ]
  },
  {
   "cell_type": "code",
   "execution_count": 7,
   "metadata": {},
   "outputs": [],
   "source": [
    "def get_fodo_sc(fodo_params, sigma, I):  \n",
    "    # FODO parameters\n",
    "    Lq = fodo_params['Lq']\n",
    "    gradBf = fodo_params['gradBf']\n",
    "    gradBd = fodo_params['gradBd']\n",
    "    Ldr = fodo_params['Ldr']\n",
    "\n",
    "    # define the space charge FODO cell\n",
    "    # focusing quadrupole\n",
    "    Qf_sc = SpaceChargeQuadrupole(Lq, gradBf, sigma, I)\n",
    "\n",
    "    # defocusing quadrupole\n",
    "    Qd_sc = SpaceChargeQuadrupole(Lq, gradBd, sigma, I)\n",
    "\n",
    "    # drift\n",
    "    Dr_h_sc = SpaceChargeDrift(Ldr/2., sigma, I) # half drift\n",
    "    Dr_sc = SpaceChargeDrift(Ldr, sigma, I)\n",
    "\n",
    "    # define space charge FODO cell\n",
    "    fodo_sc = [Dr_h_sc, Qf_sc, Dr_sc, Qd_sc, Dr_h_sc]\n",
    "    return fodo_sc"
   ]
  },
  {
   "cell_type": "markdown",
   "metadata": {},
   "source": [
    "<html>\n",
    "    <div class=\"alert alert-info\" style=\"background-color:rgba(255, 0, 0, 0.6);\n",
    "                                         margin-top:10px;\n",
    "                                         color:white;\n",
    "                                         border-color:rgba(255, 0, 0, 0.3)\">\n",
    "        <strong>TODO:</strong>\n",
    "        <ul>\n",
    "            <li>Define the following function to track sigma through space charge incorporated FODO beamline.</li>\n",
    "        </ul>\n",
    "    </div>\n",
    "</html>"
   ]
  },
  {
   "cell_type": "markdown",
   "metadata": {},
   "source": [
    "#### Notes\n",
    "- Since sigma is changing throughout tracking, we need to update sigma and the accelerator elements together. For example, to track sigma through [drift, quadrupole]\n",
    "    - progagate sigma through drift;\n",
    "    - collect the sigma after drift;\n",
    "    - use the new sigma to define a new quadrupole; **Use the get() function here**\n",
    "    - propagate sigma through the new quadrupole\n",
    "    - collect the sigma after quadrupole.\n",
    "  \n",
    "  Note that the above process should loop over each **slice** of acclerator element. Each slice of M has length $M.length/n_{slice}$."
   ]
  },
  {
   "cell_type": "code",
   "execution_count": 8,
   "metadata": {},
   "outputs": [],
   "source": [
    "def track_fodo_sc(fodo_sc, sigma, n_cells=1, n_slice=1):\n",
    "    # initial sigma\n",
    "    sigmas = np.expand_dims(sigma, axis=0)\n",
    "    \n",
    "    # initial length\n",
    "    length_till_now = 0.\n",
    "    lengths = [0,]\n",
    "\n",
    "    cells = {} # this is to collect the updated FODO cells\n",
    "    for n in range(n_cells):\n",
    "        cells[n] = []\n",
    "        for M in fodo_sc:\n",
    "            L = M.length\n",
    "            for i in range(n_slice):\n",
    "                # use the current sigma to define slice i map\n",
    "                M_slice_i = M.get(length=L/n_slice, sigma=sigma)\n",
    "\n",
    "                # calculate length\n",
    "                length_till_now = length_till_now + M_slice_i.length\n",
    "                lengths.append(length_till_now)\n",
    "\n",
    "                # propagate sigma using M_slice_i\n",
    "                sigma = M_slice_i * sigma * M_slice_i.T\n",
    "\n",
    "                # collect sigma\n",
    "                sigmas = np.append(sigmas, np.expand_dims(sigma, axis=0), axis=0)\n",
    "\n",
    "                # collect maps\n",
    "                cells[n].append(M_slice_i)\n",
    "    return sigmas, lengths, cells"
   ]
  },
  {
   "cell_type": "markdown",
   "metadata": {},
   "source": [
    "<html>\n",
    "    <div class=\"alert alert-info\" style=\"background-color:rgba(255, 0, 0, 0.6);\n",
    "                                         margin-top:10px;\n",
    "                                         color:white;\n",
    "                                         border-color:rgba(255, 0, 0, 0.3)\">\n",
    "        <strong>TODO:</strong>\n",
    "        <ul>\n",
    "            <li>Track the sigma matrix through the space charge incorprated FODO cell for different beam current $I=0mA$, $60mA$ and $300mA$. Compare your result with page 23 of `pam-s8`.</li>\n",
    "        </ul>\n",
    "    </div>\n",
    "</html>"
   ]
  },
  {
   "cell_type": "code",
   "execution_count": 9,
   "metadata": {},
   "outputs": [
    {
     "data": {
      "image/png": "[encoded data removed]",
      "text/plain": [
       "<Figure size 432x432 with 1 Axes>"
      ]
     },
     "metadata": {
      "needs_background": "light"
     },
     "output_type": "display_data"
    }
   ],
   "source": [
    "fodo_sc = get_fodo_sc(fodo_params, sigma_matched, I=0.375) # I has unit [A], change I to test stability\n",
    "all_sigmas_sc, lengths_sc, cells_sc = track_fodo_sc(fodo_sc, sigma_matched, n_cells=4, n_slice=10)\n",
    "# plot\n",
    "fig = plt.figure()\n",
    "fig.set_size_inches(6,6)\n",
    "axis = fig.add_subplot(111)\n",
    "axis.set_xlabel('s [m]')\n",
    "axis.set_ylabel('RMS beam size [mm]')\n",
    "\n",
    "axis.plot(lengths_sc, np.sqrt(all_sigmas_sc[:,0,0])*1e3, label=r'$\\langle x\\rangle [mm]$', color='black')\n",
    "axis.plot(lengths_sc, np.sqrt(all_sigmas_sc[:,2,2])*1e3, label=r'$\\langle y\\rangle [mm]$', color='red')\n",
    "\n",
    "axis.legend(loc='upper left')\n",
    "plt.title('Beam envelope with space charge')\n",
    "plt.show()"
   ]
  },
  {
   "cell_type": "markdown",
   "metadata": {},
   "source": [
    "## Stability analysis\n",
    "\n",
    "<html>\n",
    "    <div class=\"alert alert-info\" style=\"background-color:rgba(255, 0, 0, 0.6);\n",
    "                                         margin-top:10px;\n",
    "                                         color:white;\n",
    "                                         border-color:rgba(255, 0, 0, 0.3)\">\n",
    "        <strong>TODO:</strong>\n",
    "        <ul>\n",
    "            <li>Based on the BIBO stability criterion given on Page 85 of `pam-s5`, what is the stability limit, i.e. the maximal current ($I_{max}$) such that the beam is still stable?</li>\n",
    "        </ul>\n",
    "    </div>\n",
    "</html>"
   ]
  },
  {
   "cell_type": "code",
   "execution_count": 10,
   "metadata": {},
   "outputs": [
    {
     "name": "stdout",
     "output_type": "stream",
     "text": [
      "Horizontal |trace| of M_cell is: 1.9948200181210356\n",
      "Vertical |trace| of M_cell is: 1.0391232235919303\n"
     ]
    }
   ],
   "source": [
    "cell = cells_sc[0]#fetch the updated FODO_sc cell here. Since we track 4 cells, the indices you can take are 0,1,2,3\n",
    "M_fodo_sc = Tracking.getMcell(cell=cell)\n",
    "# calculate stability\n",
    "tr_h = M_fodo_sc[0,0] + M_fodo_sc[1,1] # horizontal phase space\n",
    "tr_v = M_fodo_sc[2,2] + M_fodo_sc[3,3] # vertical phase space\n",
    "\n",
    "print('Horizontal |trace| of M_cell is:', abs(tr_h))\n",
    "print('Vertical |trace| of M_cell is:', abs(tr_v))"
   ]
  },
  {
   "cell_type": "markdown",
   "metadata": {},
   "source": [
    "By changing $I$ in function `get_fodo_sc` in the previous cell, we find that with I=375mA, in horizontal space the trace almost reaches 2."
   ]
  },
  {
   "cell_type": "markdown",
   "metadata": {},
   "source": [
    "## Bonus (Open questions)\n",
    "- Besides Gaussian, define a elliptical bunch following uniform distribution. Instead of simply drawing the ellipse from parameters $a$ and $b$, we need to define the elliptical bunch according to its sigma matrix.\n",
    "  \n",
    "  Thoughts: In 1-dimensional case, if we use sigma[0,0] as var(x) and 0 as mean(x), we would get the lower and upper limits of uniform distribution: $[-\\sqrt{3\\sigma_{0,0}}, \\sqrt{3\\sigma_{0,0}}]$. But if we do this for all 6 dimensions, we would get a cube instead of an ellipse. Discarding particles outside the ellipse would then change the number of particles and also the sigma, not to mention that we still don't know the envelope of our desired ellipse yet.\n",
    "  \n",
    "- If an uniformly distributed ellipse is successfully defined, we can use equation (21) of [1] to calculate the space charge."
   ]
  },
  {
   "cell_type": "markdown",
   "metadata": {},
   "source": [
    "## References\n",
    "- [1] K. Schindl, Space Charge, https://cds.cern.ch/record/941316/files/p305.pdf\n",
    "- [2] L.Hein, CERN Linac4 - The Space Charge Challenge, https://cds.cern.ch/record/1626566\n",
    "- [3] B.Holzer, Lattice Design in Particle Accelerators II, https://indico.cern.ch/event/103406/contributions/20657/attachments/11961/17473/CAS_Holzer_II.pdf\n",
    "- [4] Emittance Diagnostics, https://cas.web.cern.ch/sites/default/files/lectures/dourdan-2008/braun-emittance.pdf"
   ]
  }
 ],
 "metadata": {
  "kernelspec": {
   "display_name": "pyAcceLEGOrator.venv",
   "language": "python",
   "name": "pyaccelegorator.venv"
  },
  "language_info": {
   "codemirror_mode": {
    "name": "ipython",
    "version": 3
   },
   "file_extension": ".py",
   "mimetype": "text/x-python",
   "name": "python",
   "nbconvert_exporter": "python",
   "pygments_lexer": "ipython3",
   "version": "3.8.1"
  }
 },
 "nbformat": 4,
 "nbformat_minor": 2
}
